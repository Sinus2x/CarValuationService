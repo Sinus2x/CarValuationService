{
 "cells": [
  {
   "cell_type": "markdown",
   "id": "f948e3dc",
   "metadata": {},
   "source": [
    "# EDA данных"
   ]
  },
  {
   "cell_type": "code",
   "execution_count": null,
   "id": "084ab653",
   "metadata": {},
   "outputs": [],
   "source": [
    "import pandas as pd\n",
    "import numpy as np\n",
    "import pyarrow.feather as ft\n",
    "import matplotlib.pyplot as plt\n",
    "import seaborn as sns\n",
    "import warnings\n",
    "import datetime\n",
    "\n",
    "warnings.simplefilter('ignore')"
   ]
  },
  {
   "cell_type": "markdown",
   "id": "9c8ebcb6",
   "metadata": {},
   "source": [
    "## Загрузим данные"
   ]
  },
  {
   "cell_type": "code",
   "execution_count": null,
   "id": "b4cec4e7",
   "metadata": {},
   "outputs": [],
   "source": [
    "df_test = ft.read_feather('project_data_imv_auto/project_test_public.f')\n",
    "df_test.head(3)"
   ]
  },
  {
   "cell_type": "code",
   "execution_count": null,
   "id": "fdba34bb",
   "metadata": {},
   "outputs": [],
   "source": [
    "df_train = ft.read_feather('project_data_imv_auto/project_train.f')\n",
    "df_train.head(3)"
   ]
  },
  {
   "cell_type": "code",
   "execution_count": null,
   "id": "d9bd8ca5",
   "metadata": {
    "scrolled": true
   },
   "outputs": [],
   "source": [
    "df_train.columns"
   ]
  },
  {
   "cell_type": "code",
   "execution_count": null,
   "id": "f0571e84",
   "metadata": {},
   "outputs": [],
   "source": [
    "df_test.columns"
   ]
  },
  {
   "cell_type": "code",
   "execution_count": null,
   "id": "2e9b5e22",
   "metadata": {},
   "outputs": [],
   "source": [
    "# тест и трейн по составу колонок отличаются следующим образом:\n",
    "set(df_train.columns).difference(set(df_test.columns))"
   ]
  },
  {
   "cell_type": "code",
   "execution_count": null,
   "id": "0e7d84bb",
   "metadata": {},
   "outputs": [],
   "source": [
    "options = pd.read_csv('project_data_imv_auto/option_names.csv')\n",
    "options.head(3)"
   ]
  },
  {
   "cell_type": "code",
   "execution_count": null,
   "id": "c2943977",
   "metadata": {},
   "outputs": [],
   "source": [
    "df_train['price'] = df_train['price'].astype(float)"
   ]
  },
  {
   "cell_type": "markdown",
   "id": "f466bcdd",
   "metadata": {},
   "source": [
    "### Generation"
   ]
  },
  {
   "cell_type": "code",
   "execution_count": null,
   "id": "1db0e4b4",
   "metadata": {},
   "outputs": [],
   "source": [
    "df_train['generation'].describe()"
   ]
  },
  {
   "cell_type": "code",
   "execution_count": null,
   "id": "d7d900b4",
   "metadata": {},
   "outputs": [],
   "source": [
    "df_train['generation'].unique()"
   ]
  },
  {
   "cell_type": "code",
   "execution_count": null,
   "id": "06e22b40",
   "metadata": {},
   "outputs": [],
   "source": [
    "df_train['generation'].str.split().apply(len).value_counts()"
   ]
  },
  {
   "cell_type": "markdown",
   "id": "e6aa8196",
   "metadata": {},
   "source": [
    "В основном колонка заполнена данными вида \"кодировка поколения\" + \"годы\", но в трети объявлений так же содержится информация о рестайлинге и поколении рестайлинга:"
   ]
  },
  {
   "cell_type": "code",
   "execution_count": null,
   "id": "ad4c8956",
   "metadata": {},
   "outputs": [],
   "source": [
    "df_train[df_train['generation'].str.split().apply(len) == 4]['generation'].unique()"
   ]
  },
  {
   "cell_type": "markdown",
   "id": "f71b271b",
   "metadata": {},
   "source": [
    "Попробуем разнести информацию по разным колонкам и посмотрим на их связь с таргетом."
   ]
  },
  {
   "cell_type": "code",
   "execution_count": null,
   "id": "54d4d5b6",
   "metadata": {},
   "outputs": [],
   "source": [
    "# Оставим в колонке generation только кодировку поколения.\n",
    "# Информацию о рестайлинге вынесем в колонку restyling. При этом поколение без рестайлинга будем кодировать как 0, \n",
    "# рестайлинг первого поколения как 1, второго поколения рестайлинга как 2 и тд.\n",
    "# Наконец вынесем годы в колонку generation_years\n",
    "def restyling_extract(gen_list: list) -> int:\n",
    "    \"\"\"\n",
    "    Выделяем поколение рестайлинга из списка слов колонки generation\n",
    "    \"\"\"\n",
    "    if len(gen_list) == 4:\n",
    "        return int(gen_list[-2])\n",
    "    elif len(gen_list) == 3:\n",
    "        return 1\n",
    "    return 0\n",
    "\n",
    "generation = df_train['generation'].str.split()\n",
    "df_train['generation_old'] = df_train['generation']\n",
    "df_train['generation'] = generation.apply(lambda x: x[0])\n",
    "df_train['generation_years'] = generation.apply(lambda x: x[-1])\n",
    "df_train['restyling'] = generation.apply(lambda x: restyling_extract(x))"
   ]
  },
  {
   "cell_type": "code",
   "execution_count": null,
   "id": "7c81afbe",
   "metadata": {},
   "outputs": [],
   "source": [
    "fig = sns.catplot(data=df_train[['restyling', 'price']], x=\"restyling\", y=\"price\", kind=\"box\", height=6, aspect=2)\n",
    "fig.set(ylim=(0, 1.5e7))"
   ]
  },
  {
   "cell_type": "code",
   "execution_count": null,
   "id": "c68e4a00",
   "metadata": {},
   "outputs": [],
   "source": [
    "df_train['generation'].nunique(), df_train['generation_years'].nunique()"
   ]
  },
  {
   "cell_type": "markdown",
   "id": "40c3f5ad",
   "metadata": {},
   "source": [
    "#### summary\n",
    "Выделив дополнительные данные из колонки generation нам удалось несколько уменьшить количество категорий - возможно это поможет в дальнейшем при обучении модели. При этом как видим количество уникальных значений generation и generation_years практически идентично - возможно это связано с тем, что годы выпуска каждого поколения фактически определяют и само поколение. В последующем необходимо будет проверить это."
   ]
  },
  {
   "cell_type": "markdown",
   "id": "1d22d8dd",
   "metadata": {},
   "source": [
    "### Modification"
   ]
  },
  {
   "cell_type": "code",
   "execution_count": null,
   "id": "9907c109",
   "metadata": {},
   "outputs": [],
   "source": [
    "df_train['modification'].describe()"
   ]
  },
  {
   "cell_type": "code",
   "execution_count": null,
   "id": "760466ef",
   "metadata": {},
   "outputs": [],
   "source": [
    "df_train['modification'].unique()"
   ]
  },
  {
   "cell_type": "code",
   "execution_count": null,
   "id": "78de907f",
   "metadata": {},
   "outputs": [],
   "source": [
    "# Выделим из данной колонки объем двигателя, заполним образующиеся nan'ы данными из гугла\n",
    "\n",
    "df_train['engine_volume'] = df_train.modification.str.extract(r'(?P<engine_volume>\\d\\.\\d)')\n",
    "df_train.loc[df_train['modification'] == 'FX30d 4WD AT (238 л.с.)', 'engine_volume'] = '3.0'\n",
    "df_train.loc[df_train['modification'] == 'P85', 'engine_volume'] = '0.0'"
   ]
  },
  {
   "cell_type": "code",
   "execution_count": null,
   "id": "7312789a",
   "metadata": {},
   "outputs": [],
   "source": [
    "df_train['engine_volume'].describe()"
   ]
  },
  {
   "cell_type": "code",
   "execution_count": null,
   "id": "c7c04288",
   "metadata": {
    "scrolled": false
   },
   "outputs": [],
   "source": [
    "sns.histplot(data=df_train['engine_volume'].astype(float), binwidth=0.1)"
   ]
  },
  {
   "cell_type": "code",
   "execution_count": null,
   "id": "03014e54",
   "metadata": {},
   "outputs": [],
   "source": [
    "# Выделим из данной колонки количество лошадиных сил, заполним образующиеся nan'ы данными из гугла\n",
    "\n",
    "df_train['horse_power'] = df_train.modification.str.extract(r'(?P<horse_power>\\(.*\\))')\n",
    "df_train['horse_power'] = df_train['horse_power'].str.strip('( л.с.)')\n",
    "df_train['horse_power'] = df_train['horse_power'].fillna('382')\n",
    "df_train['horse_power'] = df_train['horse_power'].astype(int)"
   ]
  },
  {
   "cell_type": "code",
   "execution_count": null,
   "id": "cc426cd1",
   "metadata": {},
   "outputs": [],
   "source": [
    "df_train['horse_power'].hist(bins=100)"
   ]
  },
  {
   "cell_type": "markdown",
   "id": "f6bbf609",
   "metadata": {},
   "source": [
    "#### summary\n",
    "\n",
    "Выделив дополнительные колонки из modification мы получили дополнительные данные об объеме двигателя и его мощности. Остальная информация, содержащая по большей части данные о коробке передач, типе привода и тд будем считать избыточной и отбросим."
   ]
  },
  {
   "cell_type": "markdown",
   "id": "06b4d358",
   "metadata": {},
   "source": [
    "### Equipment"
   ]
  },
  {
   "cell_type": "code",
   "execution_count": null,
   "id": "465da4a3",
   "metadata": {},
   "outputs": [],
   "source": [
    "df_train['equipment'].describe()"
   ]
  },
  {
   "cell_type": "code",
   "execution_count": null,
   "id": "ca1fea47",
   "metadata": {},
   "outputs": [],
   "source": [
    "df_train['equipment'].isna().sum()"
   ]
  },
  {
   "cell_type": "code",
   "execution_count": null,
   "id": "6102fed5",
   "metadata": {},
   "outputs": [],
   "source": [
    "df_train['equipment'].unique()"
   ]
  },
  {
   "cell_type": "code",
   "execution_count": null,
   "id": "d1d69b9c",
   "metadata": {},
   "outputs": [],
   "source": [
    "df_train['equipment'].fillna('Базовая').str.split().apply(len).value_counts()"
   ]
  },
  {
   "cell_type": "code",
   "execution_count": null,
   "id": "23c981da",
   "metadata": {
    "scrolled": true
   },
   "outputs": [],
   "source": [
    "df_train[df_train['equipment'].fillna('None').str.split().apply(len) == 1]['equipment'].unique()"
   ]
  },
  {
   "cell_type": "code",
   "execution_count": null,
   "id": "a88b3862",
   "metadata": {
    "scrolled": true
   },
   "outputs": [],
   "source": [
    "df_train[df_train['equipment'].fillna('None').str.split().apply(len) == 3]['equipment'].unique()"
   ]
  },
  {
   "cell_type": "code",
   "execution_count": null,
   "id": "d7253b11",
   "metadata": {},
   "outputs": [],
   "source": [
    "df_train[df_train['equipment'].fillna('None').str.split().apply(len) == 5]['equipment'].unique()"
   ]
  },
  {
   "cell_type": "code",
   "execution_count": null,
   "id": "a181ad47",
   "metadata": {},
   "outputs": [],
   "source": [
    "df_train[df_train['equipment'].fillna('None').str.split().apply(len) == 7]['price']"
   ]
  },
  {
   "cell_type": "markdown",
   "id": "887ed132",
   "metadata": {},
   "source": [
    "Как видно, большое количество уникальных значений усложняет работу с ними, при этом часть информации, зашифрованной в строке дублирует уже существующую:\n",
    "'Люкс Премиум Автомат', 'GLE 53 4MATIC+', 'Top Prestige (2015-2016)'"
   ]
  },
  {
   "cell_type": "code",
   "execution_count": null,
   "id": "7bd25b88",
   "metadata": {},
   "outputs": [],
   "source": [
    "# Посмотрим, можно ли выделить информацию о количестве мест\n",
    "(df_train.equipment.str.extract(r'(?P<equipment>[0-9]?\\sмест)').notna().sum(), \n",
    "df_train.equipment.str.extract(r'(?P<equipment>[0-9]?\\sseats)').notna().sum())"
   ]
  },
  {
   "cell_type": "code",
   "execution_count": null,
   "id": "f8280a64",
   "metadata": {},
   "outputs": [],
   "source": [
    "# Посмотрим на количество записей с упоминанием о локальной сборке\n",
    "\n",
    "df_train.equipment.str.extract(r'(?P<equipment>Локальная сборка)').notna().sum()"
   ]
  },
  {
   "cell_type": "markdown",
   "id": "0c3c0472",
   "metadata": {},
   "source": [
    "#### summary\n",
    "\n",
    "Очень большое количество категорий. \n",
    "Возможные пути улучшения качества данной колонки:\n",
    "* Убрать опечатки: есть категории \"Luxary\" и \"Confort\", \"Standart\" т.д.\n",
    "* Убрать синонимы, как внутри англоязычных и русскоязычных строк: \"Basic\" и \"Base\", \"Lux\" и \"Luxe\", так и между разными языками - \"Lux\" и \"Люкс\", \"Premium\" и \"Премиум\" и тд\n",
    "* Обрабатывать данную колонку как мультилейбл - возможно преобразование типа mean-target encoding с учетом мультилейблов даст модели лучшее представление о влиянии этой колонки на таргет:\n",
    "\"Family + Style + High-Tech\" можно представить как три лейбла - \"Family\", \"Style\" и \"High-Tech\""
   ]
  },
  {
   "cell_type": "markdown",
   "id": "37395664",
   "metadata": {},
   "source": [
    "### Description"
   ]
  },
  {
   "cell_type": "code",
   "execution_count": null,
   "id": "35f6d421",
   "metadata": {},
   "outputs": [],
   "source": [
    "df_train['description'].describe()"
   ]
  },
  {
   "cell_type": "code",
   "execution_count": null,
   "id": "a8347e30",
   "metadata": {},
   "outputs": [],
   "source": [
    "df_train['description'].value_counts()[-1000:-200]"
   ]
  },
  {
   "cell_type": "markdown",
   "id": "327a318f",
   "metadata": {},
   "source": [
    "#### summary\n",
    "\n",
    "Очень большое количество категорий, много вариантов обработки. \n",
    "Возможные пути обработки текстов описаний:\n",
    "* Убрать самые частые как неинформативные - \"Торг\", \"Все вопросы по телефону\", \".\" и т.д.\n",
    "* Судя по описаниям - объявления с очень подробным и одинаковым описанием написаны от дилерских центров или перекупов. Возможно имеет смысл выделить в отдельную колонку информацию об этом.\n",
    "* Получение эмбеддингов описаний: tf-idf, word2vec c, например, последующией кластеризацией."
   ]
  },
  {
   "cell_type": "markdown",
   "id": "d776b2c2",
   "metadata": {},
   "source": [
    "### Audiosystem"
   ]
  },
  {
   "cell_type": "code",
   "execution_count": null,
   "id": "73719952",
   "metadata": {},
   "outputs": [],
   "source": [
    "df_train['audiosistema'].describe()"
   ]
  },
  {
   "cell_type": "code",
   "execution_count": null,
   "id": "bcd693e2",
   "metadata": {},
   "outputs": [],
   "source": [
    "mask = {str(i): options[options['id'] == i].viewItemLabel.values[0] for i in df_train['audiosistema'].dropna().unique()}\n",
    "mask['nan'] = 'Нет аудиосистемы'"
   ]
  },
  {
   "cell_type": "code",
   "execution_count": null,
   "id": "d45e5c94",
   "metadata": {},
   "outputs": [],
   "source": [
    "mask"
   ]
  },
  {
   "cell_type": "code",
   "execution_count": null,
   "id": "f1d6cbdd",
   "metadata": {},
   "outputs": [],
   "source": [
    "df_train['audiosistema'] = df_train['audiosistema'].apply(lambda x: mask[str(x)])"
   ]
  },
  {
   "cell_type": "code",
   "execution_count": null,
   "id": "be986539",
   "metadata": {},
   "outputs": [],
   "source": [
    "df_train['audiosistema'].value_counts()"
   ]
  },
  {
   "cell_type": "code",
   "execution_count": null,
   "id": "3513d3f7",
   "metadata": {},
   "outputs": [],
   "source": [
    "fig = sns.catplot(data=df_train[['audiosistema', 'price']], x=\"audiosistema\", y=\"price\", kind=\"box\", height=6, aspect=2)\n",
    "plt.xticks(rotation=70)\n",
    "fig.set(ylim=(0, 0.6e7))"
   ]
  },
  {
   "cell_type": "markdown",
   "id": "56230ead",
   "metadata": {},
   "source": [
    "#### summary\n",
    "\n",
    "Категория довольно сильно связана с таргетом - распределения довольно сильно отличаются в зависимости от наличия и типа аудиосистемы."
   ]
  },
  {
   "cell_type": "markdown",
   "id": "b0ed5db8",
   "metadata": {},
   "source": [
    "### Wheels\n",
    "####  discs"
   ]
  },
  {
   "cell_type": "code",
   "execution_count": null,
   "id": "2f97ff36",
   "metadata": {},
   "outputs": [],
   "source": [
    "df_train['diski'].describe()"
   ]
  },
  {
   "cell_type": "code",
   "execution_count": null,
   "id": "149309cc",
   "metadata": {},
   "outputs": [],
   "source": [
    "mask = {str(i): int(options[options['id'] == i].viewItemLabel.values[0][:-1]) for i in df_train['diski'].dropna().unique()}\n",
    "mask['nan'] = -1"
   ]
  },
  {
   "cell_type": "code",
   "execution_count": null,
   "id": "b473eb76",
   "metadata": {
    "scrolled": true
   },
   "outputs": [],
   "source": [
    "mask"
   ]
  },
  {
   "cell_type": "code",
   "execution_count": null,
   "id": "b4401d4a",
   "metadata": {},
   "outputs": [],
   "source": [
    "df_train['diski'] = df_train['diski'].apply(lambda x: mask[str(x)])"
   ]
  },
  {
   "cell_type": "code",
   "execution_count": null,
   "id": "94dae4ca",
   "metadata": {},
   "outputs": [],
   "source": [
    "fig = sns.catplot(data=df_train[['diski', 'price']], x=\"diski\", y=\"price\", kind=\"box\", height=6, aspect=2)\n",
    "plt.xticks(rotation=70)\n",
    "fig.set(ylim=(0, 3e7))\n",
    "plt.show()"
   ]
  },
  {
   "cell_type": "code",
   "execution_count": null,
   "id": "f63e8bec",
   "metadata": {},
   "outputs": [],
   "source": [
    "df_train['diski'].value_counts()"
   ]
  },
  {
   "cell_type": "code",
   "execution_count": null,
   "id": "1144705c",
   "metadata": {},
   "outputs": [],
   "source": [
    "# Построим гистрограмму без неизвестных значений\n",
    "fig = sns.histplot(data=df_train[df_train['diski'] != -1]['diski'], discrete=True)"
   ]
  },
  {
   "cell_type": "markdown",
   "id": "8fc5b431",
   "metadata": {},
   "source": [
    "#### Summary\n",
    "\n",
    "Больше половины всех значений - пропуски, при этом там, где мы знаем о величине дисков видно, что есть взаимосвязь с таргетом.\n",
    "Возможно будет иметь смысл размечать пропуски, например модой по данной модели автомобиля."
   ]
  },
  {
   "cell_type": "markdown",
   "id": "34c95861",
   "metadata": {},
   "source": [
    "### Power windows\n",
    "#### electropodemniki"
   ]
  },
  {
   "cell_type": "code",
   "execution_count": null,
   "id": "287da9cd",
   "metadata": {},
   "outputs": [],
   "source": [
    "df_train['electropodemniki'].describe()"
   ]
  },
  {
   "cell_type": "code",
   "execution_count": null,
   "id": "14d5fded",
   "metadata": {},
   "outputs": [],
   "source": [
    "df_train['electropodemniki'].value_counts()"
   ]
  },
  {
   "cell_type": "code",
   "execution_count": null,
   "id": "f0081532",
   "metadata": {},
   "outputs": [],
   "source": [
    "mask = {str(i): options[options['id'] == i].viewItemLabel.values[0] for i in df_train['electropodemniki'].dropna().unique()}\n",
    "mask['nan'] = 'Нет данных'"
   ]
  },
  {
   "cell_type": "code",
   "execution_count": null,
   "id": "0b307b50",
   "metadata": {},
   "outputs": [],
   "source": [
    "mask"
   ]
  },
  {
   "cell_type": "code",
   "execution_count": null,
   "id": "fef919df",
   "metadata": {},
   "outputs": [],
   "source": [
    "df_train['electropodemniki'] = df_train['electropodemniki'].apply(lambda x: mask[str(x)])"
   ]
  },
  {
   "cell_type": "code",
   "execution_count": null,
   "id": "abd8fb6e",
   "metadata": {},
   "outputs": [],
   "source": [
    "fig = sns.catplot(data=df_train[['electropodemniki', 'price']], x=\"electropodemniki\", y=\"price\", kind=\"box\", height=6, aspect=2)\n",
    "plt.xticks(rotation=70)\n",
    "fig.set(ylim=(0, 0.5e7))\n",
    "plt.show()"
   ]
  },
  {
   "cell_type": "markdown",
   "id": "4deee300",
   "metadata": {},
   "source": [
    "#### Summary\n",
    "\n",
    "Почти половина значений - пропуски, при этом видно что распределения у категорий \"передние и задние\" и \"только передние\" заметно отличаются.\n",
    "Для разметки отсутствующих данных, возможно, поможет размечать модой по аналогичным моделям с аналогичной комплектацией"
   ]
  },
  {
   "cell_type": "markdown",
   "id": "bdc2363e",
   "metadata": {},
   "source": [
    "### Lights\n",
    "####  fary"
   ]
  },
  {
   "cell_type": "code",
   "execution_count": null,
   "id": "71f6a4cf",
   "metadata": {},
   "outputs": [],
   "source": [
    "df_train['fary'].describe()"
   ]
  },
  {
   "cell_type": "code",
   "execution_count": null,
   "id": "9bac927d",
   "metadata": {},
   "outputs": [],
   "source": [
    "df_train['fary'].value_counts()"
   ]
  },
  {
   "cell_type": "code",
   "execution_count": null,
   "id": "378c9df6",
   "metadata": {},
   "outputs": [],
   "source": [
    "mask = {str(i): options[options['id'] == i].viewItemLabel.values[0] for i in df_train['fary'].dropna().unique()}\n",
    "mask['nan'] = 'Нет данных'\n",
    "mask"
   ]
  },
  {
   "cell_type": "code",
   "execution_count": null,
   "id": "4a03459e",
   "metadata": {},
   "outputs": [],
   "source": [
    "df_train['fary'] = df_train['fary'].apply(lambda x: mask[str(x)])"
   ]
  },
  {
   "cell_type": "code",
   "execution_count": null,
   "id": "f67ee84b",
   "metadata": {},
   "outputs": [],
   "source": [
    "fig = sns.catplot(data=df_train[['fary', 'price']], x=\"fary\", y=\"price\", kind=\"box\", height=6, aspect=2)\n",
    "plt.xticks(rotation=70)\n",
    "fig.set(ylim=(0, 1e7))\n",
    "plt.show()"
   ]
  },
  {
   "cell_type": "markdown",
   "id": "b5bf7250",
   "metadata": {},
   "source": [
    "#### Summary\n",
    "\n",
    "Аналогично предыдущим колонкам, данная имеет 2/3 пропусков. Возможно поможет разметка модой по аналогичным моделям и комплектации."
   ]
  },
  {
   "cell_type": "markdown",
   "id": "8d8a89b5",
   "metadata": {},
   "source": [
    "### Climate control\n",
    "#### upravlenie_klimatom"
   ]
  },
  {
   "cell_type": "code",
   "execution_count": null,
   "id": "f7bbd3b4",
   "metadata": {},
   "outputs": [],
   "source": [
    "df_train['upravlenie_klimatom'].describe()"
   ]
  },
  {
   "cell_type": "code",
   "execution_count": null,
   "id": "792e4f77",
   "metadata": {},
   "outputs": [],
   "source": [
    "df_train['upravlenie_klimatom'].value_counts()"
   ]
  },
  {
   "cell_type": "code",
   "execution_count": null,
   "id": "092b5100",
   "metadata": {},
   "outputs": [],
   "source": [
    "mask = {str(i): options[options['id'] == i].viewItemLabel.values[0] for i in df_train['upravlenie_klimatom'].dropna().unique()}\n",
    "mask['nan'] = 'Нет данных'\n",
    "mask"
   ]
  },
  {
   "cell_type": "code",
   "execution_count": null,
   "id": "c6f17a3d",
   "metadata": {},
   "outputs": [],
   "source": [
    "df_train['upravlenie_klimatom'] = df_train['upravlenie_klimatom'].apply(lambda x: mask[str(x)])"
   ]
  },
  {
   "cell_type": "code",
   "execution_count": null,
   "id": "e1b8ffd3",
   "metadata": {},
   "outputs": [],
   "source": [
    "fig = sns.catplot(data=df_train[['upravlenie_klimatom', 'price']], x=\"upravlenie_klimatom\", y=\"price\", kind=\"box\", height=6, aspect=2)\n",
    "plt.xticks(rotation=70)\n",
    "fig.set(ylim=(0, 0.5e7))\n",
    "plt.show()"
   ]
  },
  {
   "cell_type": "markdown",
   "id": "3f70f733",
   "metadata": {},
   "source": [
    "### Summary\n",
    "\n",
    "Аналогично предыдущим колонкам, данная имеет 2/3 пропусков. Возможно поможет разметка модой по аналогичным моделям и комплектации, а также парсинг description."
   ]
  },
  {
   "cell_type": "markdown",
   "id": "c091ffdf",
   "metadata": {},
   "source": [
    "### Power steering\n",
    "#### usilitel_rul "
   ]
  },
  {
   "cell_type": "code",
   "execution_count": null,
   "id": "f2bfca94",
   "metadata": {},
   "outputs": [],
   "source": [
    "df_train['usilitel_rul'].describe()"
   ]
  },
  {
   "cell_type": "code",
   "execution_count": null,
   "id": "6f6ec0c4",
   "metadata": {},
   "outputs": [],
   "source": [
    "df_train['usilitel_rul'].value_counts()"
   ]
  },
  {
   "cell_type": "code",
   "execution_count": null,
   "id": "2d198076",
   "metadata": {},
   "outputs": [],
   "source": [
    "mask = {str(i): options[options['id'] == i].viewItemLabel.values[0] for i in df_train['usilitel_rul'].dropna().unique()}\n",
    "mask['nan'] = 'Нет данных'\n",
    "mask"
   ]
  },
  {
   "cell_type": "code",
   "execution_count": null,
   "id": "733f6fce",
   "metadata": {},
   "outputs": [],
   "source": [
    "df_train['usilitel_rul'] = df_train['usilitel_rul'].apply(lambda x: mask[str(x)])"
   ]
  },
  {
   "cell_type": "code",
   "execution_count": null,
   "id": "02b35e2e",
   "metadata": {},
   "outputs": [],
   "source": [
    "fig = sns.catplot(data=df_train[['usilitel_rul', 'price']], x=\"usilitel_rul\", y=\"price\", kind=\"box\", height=6, aspect=2)\n",
    "plt.xticks(rotation=70)\n",
    "fig.set(ylim=(0, 0.5e7))\n",
    "plt.show()"
   ]
  },
  {
   "cell_type": "markdown",
   "id": "5c5815e9",
   "metadata": {},
   "source": [
    "#### Summary\n",
    "\n",
    "Аналогично предыдущим колонкам, данная имеет половину пропусков. Возможно поможет разметка модой по аналогичным моделям и комплектации.\n",
    "Дополнительно можно попробовать парсить description, модель и equipment по запросам EHPS, HPS, EPS."
   ]
  },
  {
   "cell_type": "markdown",
   "id": "445f809d",
   "metadata": {},
   "source": [
    "### Audiosystem mult\n",
    "#### audiosistema_mult"
   ]
  },
  {
   "cell_type": "code",
   "execution_count": null,
   "id": "ffb2a8c1",
   "metadata": {},
   "outputs": [],
   "source": [
    "df_train['audiosistema_mult'].describe()"
   ]
  },
  {
   "cell_type": "code",
   "execution_count": null,
   "id": "f3ab8928",
   "metadata": {},
   "outputs": [],
   "source": [
    "df_train['audiosistema_mult'].value_counts()"
   ]
  },
  {
   "cell_type": "code",
   "execution_count": null,
   "id": "4c3b5854",
   "metadata": {},
   "outputs": [],
   "source": [
    "mask = {str(i): options[options['id'] == float(i.strip('[]'))].viewItemLabel.values[0] for i in df_train['audiosistema_mult'].dropna().unique()}\n",
    "mask['None'] = 'Нет данных'\n",
    "mask"
   ]
  },
  {
   "cell_type": "code",
   "execution_count": null,
   "id": "32ea5baf",
   "metadata": {},
   "outputs": [],
   "source": [
    "df_train['audiosistema_mult'] = df_train['audiosistema_mult'].apply(lambda x: mask[str(x)])"
   ]
  },
  {
   "cell_type": "code",
   "execution_count": null,
   "id": "bdff8f73",
   "metadata": {},
   "outputs": [],
   "source": [
    "fig = sns.catplot(data=df_train[['audiosistema_mult', 'price']], x=\"audiosistema_mult\", y=\"price\", kind=\"box\", height=6, aspect=2)\n",
    "plt.xticks(rotation=70)\n",
    "fig.set(ylim=(0, 0.5e7))\n",
    "plt.show()"
   ]
  },
  {
   "cell_type": "code",
   "execution_count": null,
   "id": "fd6183db",
   "metadata": {},
   "outputs": [],
   "source": [
    "# Посмотрим пересечение - какое количество колонок аудиосистемы у автомобилей с сабвуфером\n",
    "sns.histplot(data=df_train[df_train['audiosistema_mult'] == 'Сабвуфер']['audiosistema'])\n",
    "plt.xticks(rotation=70)"
   ]
  },
  {
   "cell_type": "code",
   "execution_count": null,
   "id": "b417c0b5",
   "metadata": {},
   "outputs": [],
   "source": [
    "df_train[df_train['audiosistema_mult'] == 'Сабвуфер']['audiosistema'].value_counts()"
   ]
  },
  {
   "cell_type": "markdown",
   "id": "50e7be63",
   "metadata": {},
   "source": [
    "#### Summary\n",
    "\n",
    "Таким образом, данная колонка - по сути бинарный категориальный признак наличия сабвуфера в автомобильной аудиосистеме.\n",
    "Пропущенные значения можно попытаться спарсить из description."
   ]
  },
  {
   "cell_type": "markdown",
   "id": "0d0f2cd8",
   "metadata": {},
   "source": [
    "### Tares and wheels mult\n",
    "#### shini_i_diski_mult"
   ]
  },
  {
   "cell_type": "code",
   "execution_count": null,
   "id": "0af58563",
   "metadata": {},
   "outputs": [],
   "source": [
    "df_train['shini_i_diski_mult'].describe()"
   ]
  },
  {
   "cell_type": "code",
   "execution_count": null,
   "id": "9241d353",
   "metadata": {},
   "outputs": [],
   "source": [
    "mask = {str(i): options[options['id'] == float(i.strip('[]'))].viewItemLabel.values[0] for i in df_train['shini_i_diski_mult'].dropna().unique()}\n",
    "mask['None'] = 'Нет данных'\n",
    "mask"
   ]
  },
  {
   "cell_type": "code",
   "execution_count": null,
   "id": "b961198c",
   "metadata": {},
   "outputs": [],
   "source": [
    "df_train['shini_i_diski_mult'] = df_train['shini_i_diski_mult'].apply(lambda x: mask[str(x)])"
   ]
  },
  {
   "cell_type": "code",
   "execution_count": null,
   "id": "7bf36639",
   "metadata": {},
   "outputs": [],
   "source": [
    "fig = sns.catplot(data=df_train[['shini_i_diski_mult', 'price']], x=\"shini_i_diski_mult\", y=\"price\", kind=\"box\", height=6, aspect=2)\n",
    "plt.xticks(rotation=70)\n",
    "fig.set(ylim=(0, 0.5e7))\n",
    "plt.show()"
   ]
  },
  {
   "cell_type": "markdown",
   "id": "796f6880",
   "metadata": {},
   "source": [
    "#### Summary\n",
    "\n",
    "Данная колонка так же является бинарным категориальным признаком наличия зимных шин в комплекте.\n",
    "Пропущенные значения можно попробывать парсить из description."
   ]
  },
  {
   "cell_type": "code",
   "execution_count": null,
   "id": "d55b8ade",
   "metadata": {},
   "outputs": [],
   "source": []
  },
  {
   "cell_type": "code",
   "execution_count": null,
   "id": "23eedf05",
   "metadata": {},
   "outputs": [],
   "source": []
  }
 ],
 "metadata": {
  "kernelspec": {
   "display_name": "Python 3 (ipykernel)",
   "language": "python",
   "name": "python3"
  },
  "language_info": {
   "codemirror_mode": {
    "name": "ipython",
    "version": 3
   },
   "file_extension": ".py",
   "mimetype": "text/x-python",
   "name": "python",
   "nbconvert_exporter": "python",
   "pygments_lexer": "ipython3",
   "version": "3.10.2"
  }
 },
 "nbformat": 4,
 "nbformat_minor": 5
}
