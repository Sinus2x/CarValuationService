{
 "cells": [
  {
   "cell_type": "code",
   "execution_count": null,
   "id": "9eac72d0",
   "metadata": {
    "scrolled": true
   },
   "outputs": [],
   "source": [
    "import numpy as np\n",
    "import pandas as pd\n",
    "import seaborn as sns\n",
    "import matplotlib.pyplot as plt\n",
    "import plotly.express as px\n",
    "\n",
    "from sklearn.tree import DecisionTreeRegressor, plot_tree\n",
    "from sklearn.cluster import DBSCAN"
   ]
  },
  {
   "cell_type": "code",
   "execution_count": null,
   "id": "db19e3f2",
   "metadata": {},
   "outputs": [],
   "source": [
    "%matplotlib inline"
   ]
  },
  {
   "cell_type": "code",
   "execution_count": null,
   "id": "44b30d08",
   "metadata": {},
   "outputs": [],
   "source": [
    "train = pd.read_feather('../data/project_train.f')"
   ]
  },
  {
   "cell_type": "code",
   "execution_count": null,
   "id": "42224141",
   "metadata": {},
   "outputs": [],
   "source": [
    "DEALER = ~train.actual_price.isna()\n",
    "train['is_dealer'] = DEALER"
   ]
  },
  {
   "cell_type": "code",
   "execution_count": null,
   "id": "91a935c3",
   "metadata": {},
   "outputs": [],
   "source": [
    "options = pd.read_csv('../data/option_names.csv')\n",
    "options.head()"
   ]
  },
  {
   "cell_type": "code",
   "execution_count": null,
   "id": "61f2d624",
   "metadata": {
    "scrolled": true
   },
   "outputs": [],
   "source": [
    "train.head()"
   ]
  },
  {
   "cell_type": "code",
   "execution_count": null,
   "id": "85d94e7c",
   "metadata": {},
   "outputs": [],
   "source": [
    "'Число записей: {}, колонок: {}'.format(*train.shape)"
   ]
  },
  {
   "cell_type": "code",
   "execution_count": null,
   "id": "e9073993",
   "metadata": {},
   "outputs": [],
   "source": [
    "train.info()"
   ]
  },
  {
   "cell_type": "code",
   "execution_count": null,
   "id": "93872976",
   "metadata": {},
   "outputs": [],
   "source": [
    "# в\n",
    "option_cols = ['audiosistema', 'diski', 'electropodemniki', 'fary', 'salon', 'upravlenie_klimatom', 'usilitel_rul']\n",
    "categories = ['crashes', 'is_taxi', 'is_pledged', 'is_restrictions', 'is_carsharing']\n",
    "\n",
    "int_cols = option_cols + categories  # надо преобразовать к инту"
   ]
  },
  {
   "cell_type": "code",
   "execution_count": null,
   "id": "10c1a566",
   "metadata": {},
   "outputs": [],
   "source": [
    "for col in int_cols:\n",
    "    train.loc[:, col] = train[col].astype('Int32') "
   ]
  },
  {
   "cell_type": "code",
   "execution_count": null,
   "id": "36d3d76e",
   "metadata": {},
   "outputs": [],
   "source": [
    "train['price'] = train.price.astype(float)"
   ]
  },
  {
   "cell_type": "code",
   "execution_count": null,
   "id": "71785e72",
   "metadata": {},
   "outputs": [],
   "source": [
    "train['start_date'] = pd.to_datetime(train['start_date']).dt.date\n",
    "train['close_date'] = pd.to_datetime(train['close_date']).dt.date\n",
    "train['sale_end_date'] = pd.to_datetime(train['sale_end_date']).dt.date"
   ]
  },
  {
   "cell_type": "code",
   "execution_count": null,
   "id": "6aad0026",
   "metadata": {},
   "outputs": [],
   "source": [
    "train.info()"
   ]
  },
  {
   "cell_type": "markdown",
   "id": "caa42801",
   "metadata": {},
   "source": [
    "## EDA"
   ]
  },
  {
   "cell_type": "markdown",
   "id": "838d9d9e",
   "metadata": {},
   "source": [
    "### Распределение цен на авто: у юзеров и у дилеров"
   ]
  },
  {
   "cell_type": "code",
   "execution_count": null,
   "id": "3327a5e5",
   "metadata": {},
   "outputs": [],
   "source": [
    "actual_price_dist = pd.DataFrame(\n",
    "    {\n",
    "        'price': train.loc[DEALER, 'actual_price'].copy(),\n",
    "        'price_type': 'close'\n",
    "    }\n",
    ")\n",
    "\n",
    "user_price_dist = pd.DataFrame(\n",
    "    {\n",
    "        'price': train.loc[DEALER, 'price'].copy(),\n",
    "        'price_type': 'start'\n",
    "    }\n",
    ")\n",
    "\n",
    "price_dist = pd.concat([actual_price_dist, user_price_dist], axis=0)"
   ]
  },
  {
   "cell_type": "code",
   "execution_count": null,
   "id": "30597f2a",
   "metadata": {},
   "outputs": [],
   "source": [
    "f, (ax1, ax2) = plt.subplots(1, 2, figsize=(12, 5))\n",
    "sns.kdeplot(\n",
    "    price_dist, \n",
    "    x='price', \n",
    "    hue='price_type', \n",
    "    log_scale=False,\n",
    "    ax=ax1\n",
    ")\n",
    "sns.kdeplot(\n",
    "    price_dist, \n",
    "    x='price', \n",
    "    hue='price_type', \n",
    "    log_scale=True,\n",
    "    ax=ax2\n",
    ");"
   ]
  },
  {
   "cell_type": "code",
   "execution_count": null,
   "id": "e63ae178",
   "metadata": {},
   "outputs": [],
   "source": [
    "f, (ax1, ax2) = plt.subplots(1, 2, figsize=(12, 5))\n",
    "\n",
    "sns.boxplot(\n",
    "    price_dist,\n",
    "    x='price_type',\n",
    "    y='price',\n",
    "    ax=ax1,\n",
    ")\n",
    "\n",
    "b = sns.boxplot(\n",
    "    price_dist,\n",
    "    x='price_type',\n",
    "    y='price',\n",
    "    ax=ax2,\n",
    ")\n",
    "b.set_yscale('log')"
   ]
  },
  {
   "cell_type": "code",
   "execution_count": null,
   "id": "ea1c5a45",
   "metadata": {},
   "outputs": [],
   "source": [
    "from scipy.stats import ttest_ind\n",
    "\n",
    "\n",
    "t, p = ttest_ind(\n",
    "    np.log(train[DEALER].price), \n",
    "    np.log(train[DEALER].actual_price),\n",
    "    equal_var=True,\n",
    "    alternative='greater'\n",
    ")\n",
    "t, p"
   ]
  },
  {
   "cell_type": "markdown",
   "id": "4379a2da",
   "metadata": {},
   "source": [
    "### Даты"
   ]
  },
  {
   "cell_type": "code",
   "execution_count": null,
   "id": "f42a31d5",
   "metadata": {
    "scrolled": false
   },
   "outputs": [],
   "source": [
    "train.info()"
   ]
  },
  {
   "cell_type": "code",
   "execution_count": null,
   "id": "481aa8d4",
   "metadata": {},
   "outputs": [],
   "source": [
    "train['duration'] = (train.close_date - train.start_date).dt.days"
   ]
  },
  {
   "cell_type": "markdown",
   "id": "9c4a9e14",
   "metadata": {},
   "source": [
    "Есть ошибки - пара объявлений, которые были проданы раньше, чем опубликованы"
   ]
  },
  {
   "cell_type": "code",
   "execution_count": null,
   "id": "3dc01e99",
   "metadata": {},
   "outputs": [],
   "source": [
    "train[(train.duration < 0)]"
   ]
  },
  {
   "cell_type": "markdown",
   "id": "b51ab5e5",
   "metadata": {},
   "source": [
    "#### Распределение длительности продажи"
   ]
  },
  {
   "cell_type": "code",
   "execution_count": null,
   "id": "ca95b457",
   "metadata": {},
   "outputs": [],
   "source": [
    "h = sns.histplot(\n",
    "    train[train.duration >= 0],\n",
    "    x='duration',\n",
    "    binwidth=5,\n",
    ")"
   ]
  },
  {
   "cell_type": "markdown",
   "id": "53426f8e",
   "metadata": {},
   "source": [
    "Посмотрим на количество открытых объявлений по месяцам"
   ]
  },
  {
   "cell_type": "code",
   "execution_count": null,
   "id": "42fcb835",
   "metadata": {},
   "outputs": [],
   "source": [
    "get_month = lambda x: x.month\n",
    "train['start_month'] = train.start_date.apply(get_month)\n",
    "train['close_month'] = train.close_date.apply(get_month)\n",
    "train['sale_end_month'] = train.sale_end_date.apply(get_month)"
   ]
  },
  {
   "cell_type": "code",
   "execution_count": null,
   "id": "1a2951b7",
   "metadata": {},
   "outputs": [],
   "source": [
    "# sns.countplot(\n",
    "#     x=pd.concat(\n",
    "#         [\n",
    "#             train.start_date.apply(lambda x: x.month),\n",
    "#             train.close_date.apply(lambda x: x.month)\n",
    "#         ]\n",
    "#     ),\n",
    "#     hue=['start_month'] * train.start_date.shape[0] + ['close_month'] * train.close_date.shape[0]\n",
    "# )\n",
    "\n",
    "h = sns.countplot(\n",
    "    x=train.start_date.apply(\n",
    "        lambda x: f\"{x.month}-{x.year}\" if not pd.isnull(x) else pd.NaT\n",
    "    ),\n",
    "#     ordeer=''\n",
    ");\n",
    "plt.xticks(rotation=45);"
   ]
  },
  {
   "cell_type": "markdown",
   "id": "3783c365",
   "metadata": {},
   "source": [
    "С ноября по январь продавали меньше"
   ]
  },
  {
   "cell_type": "markdown",
   "id": "77702c33",
   "metadata": {},
   "source": [
    "#### Бренды"
   ]
  },
  {
   "cell_type": "code",
   "execution_count": null,
   "id": "a82f36b2",
   "metadata": {},
   "outputs": [],
   "source": [
    "f'{pd.Series(train.brand.apply(lambda x: x.strip().lower()).unique()).duplicated().sum()} дубликатов '"
   ]
  },
  {
   "cell_type": "code",
   "execution_count": null,
   "id": "87e8298b",
   "metadata": {},
   "outputs": [],
   "source": [
    "f, ax = plt.subplots(1, 1, figsize=(7, 12))\n",
    "g = sns.countplot(\n",
    "    train, \n",
    "    y='brand', \n",
    "    order=train.brand.value_counts().index,\n",
    "    ax=ax\n",
    ")\n",
    "plt.xticks(rotation=45);"
   ]
  },
  {
   "cell_type": "markdown",
   "id": "06af98a8",
   "metadata": {},
   "source": [
    "Мы можем заметить, что есть очень редкие бренды (тесла, бентли и пр.) - посмотрим, сколько объявлений с 15 самыми редкими из них:"
   ]
  },
  {
   "cell_type": "code",
   "execution_count": null,
   "id": "38ca402c",
   "metadata": {},
   "outputs": [],
   "source": [
    "f, ax = plt.subplots(1, 1, figsize=(7, 12))\n",
    "g = sns.countplot(\n",
    "    train, \n",
    "    y='brand', \n",
    "    order=train.brand.value_counts().index[-15:],\n",
    "    ax=ax\n",
    ")\n",
    "plt.xticks(rotation=45);"
   ]
  },
  {
   "cell_type": "markdown",
   "id": "634c3a4f",
   "metadata": {},
   "source": [
    "#### Такси"
   ]
  },
  {
   "cell_type": "markdown",
   "id": "3843f83d",
   "metadata": {},
   "source": [
    "Среди обычных пользовательских сделок нет информации по принадлежности машины к таксопарку"
   ]
  },
  {
   "cell_type": "code",
   "execution_count": null,
   "id": "a1d695b3",
   "metadata": {},
   "outputs": [],
   "source": [
    "(~train[~DEALER].is_taxi.isna()).sum()"
   ]
  },
  {
   "cell_type": "code",
   "execution_count": null,
   "id": "c618e38d",
   "metadata": {},
   "outputs": [],
   "source": [
    "train['is_taxi'] = train.is_taxi.astype(float)"
   ]
  },
  {
   "cell_type": "code",
   "execution_count": null,
   "id": "399d3b78",
   "metadata": {},
   "outputs": [],
   "source": [
    "train[DEALER].is_taxi.value_counts(dropna=False)"
   ]
  },
  {
   "cell_type": "markdown",
   "id": "e5b4c135",
   "metadata": {},
   "source": [
    "Посмотрим на то, как принадлежность к таксопарку влияет на цену авто:"
   ]
  },
  {
   "cell_type": "code",
   "execution_count": null,
   "id": "51107b44",
   "metadata": {
    "scrolled": false
   },
   "outputs": [],
   "source": [
    "sns.boxplot(\n",
    "    train[DEALER],\n",
    "    x='is_taxi',\n",
    "    y='actual_price'\n",
    ")"
   ]
  },
  {
   "cell_type": "markdown",
   "id": "013243d6",
   "metadata": {},
   "source": [
    "#### Машины под залогом"
   ]
  },
  {
   "cell_type": "markdown",
   "id": "2cb1b4ca",
   "metadata": {},
   "source": [
    "Среди пользовательских машин нет информации о нахождении под залогом"
   ]
  },
  {
   "cell_type": "code",
   "execution_count": null,
   "id": "59a20312",
   "metadata": {},
   "outputs": [],
   "source": [
    "(~train[~DEALER].is_pledged.isna()).sum()"
   ]
  },
  {
   "cell_type": "code",
   "execution_count": null,
   "id": "8edaef49",
   "metadata": {},
   "outputs": [],
   "source": [
    "train['is_pledged'] = train.is_pledged.astype(float)\n",
    "train[DEALER].is_pledged.value_counts(dropna=False)"
   ]
  },
  {
   "cell_type": "code",
   "execution_count": null,
   "id": "71a26dc4",
   "metadata": {},
   "outputs": [],
   "source": [
    "sns.boxplot(\n",
    "    train[DEALER],\n",
    "    x='is_pledged',\n",
    "    y='actual_price'\n",
    ")"
   ]
  },
  {
   "cell_type": "markdown",
   "id": "8c5c47d0",
   "metadata": {},
   "source": [
    "#### Машины с ограничениями"
   ]
  },
  {
   "cell_type": "code",
   "execution_count": null,
   "id": "396b32f4",
   "metadata": {},
   "outputs": [],
   "source": [
    "(~train[~DEALER].is_restrictions.isna()).sum()"
   ]
  },
  {
   "cell_type": "code",
   "execution_count": null,
   "id": "d26af1d6",
   "metadata": {},
   "outputs": [],
   "source": [
    "train['is_restrictions'] = train.is_restrictions.astype(float)\n",
    "train[DEALER].is_restrictions.value_counts(dropna=False)"
   ]
  },
  {
   "cell_type": "code",
   "execution_count": null,
   "id": "ae2f2795",
   "metadata": {},
   "outputs": [],
   "source": [
    "sns.boxplot(\n",
    "    train[DEALER],\n",
    "    x='is_restrictions',\n",
    "    y='actual_price'\n",
    ")"
   ]
  },
  {
   "cell_type": "markdown",
   "id": "d8edd3b4",
   "metadata": {},
   "source": [
    "#### Машины из карша"
   ]
  },
  {
   "cell_type": "code",
   "execution_count": null,
   "id": "67a53416",
   "metadata": {},
   "outputs": [],
   "source": [
    "(~train[~DEALER].is_carsharing.isna()).sum()"
   ]
  },
  {
   "cell_type": "code",
   "execution_count": null,
   "id": "2231d058",
   "metadata": {},
   "outputs": [],
   "source": [
    "train['is_carsharing'] = train.is_carsharing.astype(float)\n",
    "train[DEALER].is_carsharing.value_counts(dropna=False)"
   ]
  },
  {
   "cell_type": "code",
   "execution_count": null,
   "id": "d46a2b91",
   "metadata": {},
   "outputs": [],
   "source": [
    "sns.boxplot(\n",
    "    train[DEALER],\n",
    "    x='is_carsharing',\n",
    "    y='actual_price'\n",
    ")"
   ]
  },
  {
   "cell_type": "markdown",
   "id": "02f0c9ad",
   "metadata": {},
   "source": [
    "#### Crashes"
   ]
  },
  {
   "cell_type": "markdown",
   "id": "ae62b80b",
   "metadata": {},
   "source": [
    "Пользователи не указывают информацию об авариях авто:"
   ]
  },
  {
   "cell_type": "code",
   "execution_count": null,
   "id": "2751e5dc",
   "metadata": {},
   "outputs": [],
   "source": [
    "(~train[~DEALER].crashes.isna()).sum()"
   ]
  },
  {
   "cell_type": "code",
   "execution_count": null,
   "id": "c46d362b",
   "metadata": {},
   "outputs": [],
   "source": [
    "train['crashes'] = train.crashes.astype(float)\n",
    "train[DEALER].crashes.value_counts(dropna=False)"
   ]
  },
  {
   "cell_type": "code",
   "execution_count": null,
   "id": "d5f862ed",
   "metadata": {
    "scrolled": false
   },
   "outputs": [],
   "source": [
    "f, (ax1, ax2) = plt.subplots(2, 1, figsize=(12, 12))\n",
    "sns.countplot(\n",
    "    x=train[DEALER].crashes.fillna(-1),\n",
    "    ax=ax1\n",
    ")\n",
    "sns.boxplot(\n",
    "    x=train[DEALER].crashes.fillna(-1),\n",
    "    y=train[DEALER].actual_price,\n",
    "    ax=ax2\n",
    ")\n"
   ]
  },
  {
   "cell_type": "code",
   "execution_count": null,
   "id": "264767dc",
   "metadata": {},
   "outputs": [],
   "source": [
    "sns.heatmap(train[['crashes', 'actual_price']].corr(), annot=True)"
   ]
  },
  {
   "cell_type": "markdown",
   "id": "03d7caa9",
   "metadata": {},
   "source": [
    "#### Пробег"
   ]
  },
  {
   "cell_type": "code",
   "execution_count": null,
   "id": "abc46d08",
   "metadata": {},
   "outputs": [],
   "source": [
    "train[['mileage', 'actual_price']].corr()"
   ]
  },
  {
   "cell_type": "code",
   "execution_count": null,
   "id": "16a1ab0c",
   "metadata": {},
   "outputs": [],
   "source": [
    "train[['mileage', 'price']].corr()"
   ]
  },
  {
   "cell_type": "code",
   "execution_count": null,
   "id": "cdd135f8",
   "metadata": {},
   "outputs": [],
   "source": [
    "pd.concat([1 / train.mileage, train.actual_price], axis=1).corr()"
   ]
  },
  {
   "cell_type": "code",
   "execution_count": null,
   "id": "4c00f65f",
   "metadata": {},
   "outputs": [],
   "source": [
    "sns.scatterplot(\n",
    "    x=np.log(train.mileage),\n",
    "    y=np.log(train.actual_price)\n",
    ")"
   ]
  },
  {
   "cell_type": "code",
   "execution_count": null,
   "id": "c1c199de",
   "metadata": {},
   "outputs": [],
   "source": []
  },
  {
   "cell_type": "markdown",
   "id": "9d3cde6a",
   "metadata": {},
   "source": [
    "#### Геолокация"
   ]
  },
  {
   "cell_type": "code",
   "execution_count": null,
   "id": "41dc456f",
   "metadata": {},
   "outputs": [],
   "source": [
    "geo = train[['latitude', 'longitude']]"
   ]
  },
  {
   "cell_type": "code",
   "execution_count": null,
   "id": "11da76f2",
   "metadata": {
    "scrolled": true
   },
   "outputs": [],
   "source": [
    "from pathlib import Path\n",
    "import requests\n",
    "import pandas as pd\n",
    "\n",
    "url = (\"https://raw.githubusercontent.com/\"\n",
    "      \"epogrebnyak/ru-cities/main/assets/towns.csv\")\n",
    "\n",
    "# save file locally\n",
    "p = Path(\"towns.csv\")\n",
    "if not p.exists():\n",
    "    content = requests.get(url).text\n",
    "    p.write_text(content, encoding=\"utf-8\")\n",
    "\n",
    "# read as dataframe\n",
    "towns = pd.read_csv(\"towns.csv\")\n",
    "(towns.sample(5))"
   ]
  },
  {
   "cell_type": "code",
   "execution_count": null,
   "id": "ff24c6ea",
   "metadata": {},
   "outputs": [],
   "source": [
    "train[['latitude', 'longitude']].head()"
   ]
  },
  {
   "cell_type": "code",
   "execution_count": null,
   "id": "838b0bf7",
   "metadata": {},
   "outputs": [],
   "source": [
    "# Latitude & Longitude input\n",
    "Latitude = \"53.60782\"\n",
    "Longitude = \"32.59346\"\n",
    " \n",
    "location = geolocator.reverse(Latitude+\",\"+Longitude)\n",
    " \n",
    "# Display\n",
    "location.raw['address']"
   ]
  },
  {
   "cell_type": "code",
   "execution_count": null,
   "id": "71ded525",
   "metadata": {},
   "outputs": [],
   "source": [
    "from geopy.geocoders import Nominatim\n",
    "geolocator = Nominatim(user_agent=\"geoapiExercises\")\n",
    "\n",
    "\n",
    "def city_state_country(row):\n",
    "    coord = f\"{row['latitude']}, {row['longitude']}\"\n",
    "    location = geolocator.reverse(coord, exactly_one=True)\n",
    "    try:\n",
    "        return location.raw['address']['state']\n",
    "    except KeyError:\n",
    "        return np.nan\n"
   ]
  },
  {
   "cell_type": "code",
   "execution_count": null,
   "id": "7f1b6673",
   "metadata": {},
   "outputs": [],
   "source": [
    "train[DEALER, 'region'] = train[DEALER].apply(city_state_country, axis=1)"
   ]
  },
  {
   "cell_type": "code",
   "execution_count": null,
   "id": "39d53313",
   "metadata": {},
   "outputs": [],
   "source": [
    "sns.scatterplot(\n",
    "    geo,\n",
    "    x='longitude',\n",
    "    y='latitude'\n",
    ")"
   ]
  },
  {
   "cell_type": "markdown",
   "id": "31af9d05",
   "metadata": {},
   "source": [
    "Попробую кластеризовать геоданные"
   ]
  },
  {
   "cell_type": "code",
   "execution_count": null,
   "id": "620a939f",
   "metadata": {},
   "outputs": [],
   "source": [
    "dbscan = DBSCAN(\n",
    "    eps=1,\n",
    "    min_samples=1\n",
    ")"
   ]
  }
 ],
 "metadata": {
  "kernelspec": {
   "display_name": "Python 3 (ipykernel)",
   "language": "python",
   "name": "python3"
  },
  "language_info": {
   "codemirror_mode": {
    "name": "ipython",
    "version": 3
   },
   "file_extension": ".py",
   "mimetype": "text/x-python",
   "name": "python",
   "nbconvert_exporter": "python",
   "pygments_lexer": "ipython3",
   "version": "3.10.2"
  }
 },
 "nbformat": 4,
 "nbformat_minor": 5
}
