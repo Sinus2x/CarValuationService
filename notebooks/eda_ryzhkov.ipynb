{
 "cells": [
  {
   "cell_type": "code",
   "execution_count": null,
   "metadata": {},
   "outputs": [],
   "source": [
    "import os\n",
    "import random\n",
    "import warnings\n",
    "\n",
    "import numpy as np\n",
    "import pandas as pd\n",
    "import pyarrow.feather as ft\n",
    "\n",
    "import matplotlib.pyplot as plt\n",
    "import seaborn as sns\n",
    "\n",
    "from utils import get_widget_html, get_multicat_info, MultiCatManager\n",
    "\n",
    "from tqdm import tqdm\n",
    "from pprint import pprint\n",
    "\n",
    "%matplotlib inline\n",
    "warnings.simplefilter('ignore')"
   ]
  },
  {
   "cell_type": "code",
   "execution_count": null,
   "metadata": {},
   "outputs": [],
   "source": [
    "PATH = '../data'\n",
    "\n",
    "TRAIN_DATA = 'project_train.f'\n",
    "TEST_DATA = 'project_test_public.f'\n",
    "OPTION = 'option_names.csv'\n",
    "\n",
    "TRAIN_PATH = os.path.join(PATH, TRAIN_DATA)\n",
    "TEST_PATH = os.path.join(PATH, TEST_DATA)\n",
    "OPTION_PATH = os.path.join(PATH, OPTION)\n",
    "\n",
    "train_df = ft.read_feather(TRAIN_PATH)\n",
    "test_df = ft.read_feather(TEST_PATH)\n",
    "options = pd.read_csv(OPTION_PATH, index_col='id')"
   ]
  },
  {
   "cell_type": "code",
   "execution_count": null,
   "metadata": {},
   "outputs": [],
   "source": [
    "train_df.shape, test_df.shape"
   ]
  },
  {
   "cell_type": "code",
   "execution_count": null,
   "metadata": {},
   "outputs": [],
   "source": [
    "train_df.columns.difference(test_df.columns)"
   ]
  },
  {
   "cell_type": "markdown",
   "metadata": {},
   "source": [
    "Данные содержат очень много колонок, попробуем сгруппировать их"
   ]
  },
  {
   "cell_type": "code",
   "execution_count": null,
   "metadata": {},
   "outputs": [],
   "source": [
    "type_dct = {str(k): list(v) for k, v in train_df.groupby(train_df.dtypes, axis=1)}\n",
    "pprint(type_dct, compact=True)"
   ]
  },
  {
   "cell_type": "code",
   "execution_count": null,
   "metadata": {},
   "outputs": [],
   "source": [
    "train_df['price'] = pd.to_numeric(train_df['price'])"
   ]
  },
  {
   "cell_type": "code",
   "execution_count": null,
   "metadata": {},
   "outputs": [],
   "source": [
    "def get_info(df: pd.DataFrame):\n",
    "    info_df = pd.DataFrame(columns=['type', 'n_uniq', 'multi_uniq', 'values', 'null_ratio'], index=df.columns)\n",
    "\n",
    "    for column in df.columns:\n",
    "        total = len(df[column])\n",
    "        null_ratio = df[column].isna().sum() / total\n",
    "        n_uniq = df[column].nunique()\n",
    "        uniq = df[column].unique()\n",
    "        column_type = df[column].dtype\n",
    "        type_name = ''\n",
    "        values = '---'\n",
    "        multi_n_uniq = '---'\n",
    "        if n_uniq > 100:\n",
    "            if column in ['latitude', 'longitude']:\n",
    "                type_name = 'geolocation'\n",
    "                values = [df[column].min(), df[column].max()]\n",
    "            elif column_type in ['float64', 'int64']:\n",
    "                type_name = 'numeric'\n",
    "                values = [df[column].min(), df[column].max()]\n",
    "            elif column_type in ['datetime64[ns]']:\n",
    "                type_name = 'date'\n",
    "                values = [df[column].min(), df[column].max()]\n",
    "            elif column in ['description']:\n",
    "                type_name = 'text'\n",
    "        if type_name == '' and column_type == 'object':\n",
    "            multi_uniq = np.unique(sum(map(lambda x: x.strip('[]').split(',') if x else [str(x)], train_df[column].unique()), []))\n",
    "            multi_n_uniq = len(multi_uniq) - 1\n",
    "            is_multi = len(uniq) > len(multi_uniq)\n",
    "            if n_uniq <= 2:\n",
    "                type_name = 'binary'\n",
    "                values = uniq\n",
    "            elif n_uniq <= 10:\n",
    "                if is_multi:\n",
    "                    type_name = 'multicategory'\n",
    "                    values = multi_uniq if multi_n_uniq <= 10 else np.append(multi_uniq[:10], '...')\n",
    "                else:\n",
    "                    type_name = 'category'\n",
    "                    values = uniq\n",
    "            else:\n",
    "                if is_multi:\n",
    "                    type_name = 'multicategory'\n",
    "                    values = multi_uniq if multi_n_uniq <= 10 else np.append(multi_uniq[:10], '...')\n",
    "                else:\n",
    "                    type_name = 'category'\n",
    "                    values = np.append(uniq[:10], '...')\n",
    "        if type_name == '':\n",
    "            if n_uniq <= 2:\n",
    "                type_name = 'binary'\n",
    "                values = uniq\n",
    "            elif n_uniq <= 10:\n",
    "                type_name = 'category'\n",
    "                values = uniq\n",
    "            else:\n",
    "                type_name = 'category'\n",
    "                values = np.append(uniq[:10], '...')\n",
    "        info_df.loc[column] = [type_name, n_uniq, multi_n_uniq, values, null_ratio]\n",
    "    return info_df"
   ]
  },
  {
   "cell_type": "code",
   "execution_count": null,
   "metadata": {},
   "outputs": [],
   "source": [
    "(train_df.brand + train_df.model + train_df.generation).nunique()"
   ]
  },
  {
   "cell_type": "code",
   "execution_count": null,
   "metadata": {},
   "outputs": [],
   "source": [
    "pd.set_option('display.max_rows', None)\n",
    "pd.set_option('display.max_colwidth', 1000)\n",
    "info_df = get_info(train_df)\n",
    "info_df"
   ]
  },
  {
   "cell_type": "code",
   "execution_count": null,
   "metadata": {},
   "outputs": [],
   "source": [
    "pd.reset_option('all')"
   ]
  },
  {
   "cell_type": "code",
   "execution_count": null,
   "metadata": {},
   "outputs": [],
   "source": [
    "for_vanya = ['generation', 'modification', 'equipment', 'description', 'audiosistema', 'diski', 'electropodemniki', 'fary', 'salon', 'upravlenie_klimatom', 'usilitel_rul',  'audiosistema_mult', 'shini_i_diski_mult']\n",
    "for_sasha = info_df[info_df.type == 'multicategory'].index.to_list()\n",
    "for_maxim = info_df.index.difference(for_vanya).difference(for_sasha).to_list()\n",
    "for_dict = {'Ваня': for_vanya, 'Саша': for_sasha, 'Максим': for_maxim}"
   ]
  },
  {
   "cell_type": "code",
   "execution_count": null,
   "metadata": {},
   "outputs": [],
   "source": [
    "pprint(for_dict, compact=True)"
   ]
  },
  {
   "cell_type": "markdown",
   "metadata": {},
   "source": [
    "Колонки с типом **datetime64[ns]**:\n",
    "- 'start_date' - дата открытия объявления\n",
    "- 'close_date' - дата закрытия объявления\n",
    "- 'sale_end_date' - дата продажи авто дилером"
   ]
  },
  {
   "cell_type": "code",
   "execution_count": null,
   "metadata": {},
   "outputs": [],
   "source": [
    "funcs = [min, max, lambda x: x.max() - x.min(), 'count', lambda x: x.count() / len(x)]\n",
    "train_df[['start_date', 'close_date', 'sale_end_date']].agg(funcs).set_index(pd.Index(['start date', 'end date', 'range', 'count', 'ratio']))"
   ]
  },
  {
   "cell_type": "code",
   "execution_count": null,
   "metadata": {},
   "outputs": [],
   "source": [
    "train_df[['start_date', 'close_date', 'sale_end_date']].notnull().apply(lambda x: (x[0] & x[1]) | x[2], axis=1).all()"
   ]
  },
  {
   "cell_type": "markdown",
   "metadata": {},
   "source": [
    "Все строки либо относятся к объявлениям, либо к продажам дилеров.\n",
    "\n",
    "Разделим train_df на данные дилеров и объявления."
   ]
  },
  {
   "cell_type": "code",
   "execution_count": null,
   "metadata": {},
   "outputs": [],
   "source": [
    "is_dealer = train_df['sale_end_date'].notnull()\n",
    "\n",
    "dealer_df = train_df[is_dealer]\n",
    "advert_df = train_df[~is_dealer]"
   ]
  },
  {
   "cell_type": "code",
   "execution_count": null,
   "metadata": {},
   "outputs": [],
   "source": [
    "dealer_df.shape, advert_df.shape"
   ]
  },
  {
   "cell_type": "code",
   "execution_count": null,
   "metadata": {},
   "outputs": [],
   "source": [
    "dealer_df.columns[dealer_df.nunique(dropna=False).eq(1)]"
   ]
  },
  {
   "cell_type": "code",
   "execution_count": null,
   "metadata": {},
   "outputs": [],
   "source": [
    "advert_df.columns[advert_df.nunique(dropna=False).eq(1)]"
   ]
  },
  {
   "cell_type": "code",
   "execution_count": null,
   "metadata": {},
   "outputs": [],
   "source": [
    "damage_features = ['Передняя левая фара', 'Передняя правая фара', 'Правое зеркало',\n",
    "          'Левое зеркало', 'Капот', 'Заднее правое крыло', 'Заднее левое крыло',\n",
    "          'Передняя левая дверь', 'Крыша', 'Переднее правое крыло',\n",
    "          'Заднее стекло', 'Задний бампер', 'Передняя правая дверь',\n",
    "          'Задняя правая фара', 'Дверь багажника', 'Переднее левое крыло',\n",
    "          'Лобовое стекло', 'Задняя правая дверь', 'Передний бампер',\n",
    "          'Задняя левая фара', 'Задняя левая дверь']\n",
    "\n",
    "component_features = ['aktivnaya_bezopasnost_mult', 'electroprivod_mult', 'fary_mult',\n",
    "          'multimedia_navigacia_mult', 'obogrev_mult', 'pamyat_nastroek_mult',\n",
    "          'podushki_bezopasnosti_mult', 'pomosh_pri_vozhdenii_mult',\n",
    "          'protivoygonnaya_sistema_mult', 'salon_mult',\n",
    "          'upravlenie_klimatom_mult']"
   ]
  },
  {
   "cell_type": "code",
   "execution_count": null,
   "metadata": {},
   "outputs": [],
   "source": [
    "df_names = ['train_df', 'dealer_df', 'advert_df', 'test_df']\n",
    "df_list = [train_df, dealer_df, advert_df, test_df]\n",
    "\n",
    "df_dict = {k:v for k,v in zip(df_names, df_list)}"
   ]
  },
  {
   "cell_type": "code",
   "execution_count": null,
   "metadata": {},
   "outputs": [],
   "source": [
    "damage_index = ['any damage', 'mean if damaged', 'max if damaged']\n",
    "damage_info = pd.DataFrame(columns=df_names, index=damage_index)\n",
    "damage_info.loc['any damage'] = [df[damage_features].notna().any(axis=1).sum() for df in df_list]\n",
    "damage_info.loc['mean if damaged'] = [df[damage_features].notna().sum(axis=1).replace(0, np.nan).mean() for df in df_list]\n",
    "damage_info.loc['max if damaged'] = [df[damage_features].notna().sum(axis=1).max() for df in df_list]"
   ]
  },
  {
   "cell_type": "code",
   "execution_count": null,
   "metadata": {},
   "outputs": [],
   "source": [
    "damage_info"
   ]
  },
  {
   "cell_type": "code",
   "execution_count": null,
   "metadata": {},
   "outputs": [],
   "source": [
    "damage_manager = MultiCatManager(train_df, test_df, damage_features, 'damage_features')\n",
    "damage_manager.build()"
   ]
  },
  {
   "cell_type": "code",
   "execution_count": null,
   "metadata": {},
   "outputs": [],
   "source": [
    "damage_stats = pd.DataFrame(index=damage_features)\n",
    "for name, df in df_dict.items():\n",
    "    print(name)\n",
    "    damage_stats[name] = damage_manager.get_entropy(df)\n",
    "    temp_mask = df[damage_features].notna().any(axis=1)\n",
    "    damage_stats[f'{name}_damaged'] = damage_manager.get_entropy(df[temp_mask])"
   ]
  },
  {
   "cell_type": "code",
   "execution_count": null,
   "metadata": {},
   "outputs": [],
   "source": [
    "damage_stats.loc['Total'] = damage_stats.sum()"
   ]
  },
  {
   "cell_type": "code",
   "execution_count": null,
   "metadata": {},
   "outputs": [],
   "source": [
    "damage_stats.style.highlight_quantile(q_left=0.75)"
   ]
  },
  {
   "cell_type": "code",
   "execution_count": null,
   "metadata": {},
   "outputs": [],
   "source": [
    "damage_r2 = pd.DataFrame(data={'price_r2_all': damage_manager.get_variance(dealer_df, 'actual_price'), 'price_r2_damaged': damage_manager.get_variance(dealer_df[dealer_df[damage_features].notna().any(axis=1)], 'actual_price')}, index=damage_features)"
   ]
  },
  {
   "cell_type": "code",
   "execution_count": null,
   "metadata": {},
   "outputs": [],
   "source": [
    "damage_r2"
   ]
  },
  {
   "cell_type": "code",
   "execution_count": null,
   "metadata": {},
   "outputs": [],
   "source": [
    "component_manager = MultiCatManager(train_df, test_df, component_features, 'component_features')\n",
    "component_manager.build()"
   ]
  },
  {
   "cell_type": "code",
   "execution_count": null,
   "metadata": {},
   "outputs": [],
   "source": [
    "component_stats = pd.DataFrame(index=component_features)\n",
    "for name, df in df_dict.items():\n",
    "    print(name)\n",
    "    component_stats[name] = component_manager.get_entropy(df)\n",
    "    temp_mask = df[damage_features].notna().any(axis=1)\n",
    "    component_stats[f'{name}_damaged'] = component_manager.get_entropy(df[temp_mask])"
   ]
  },
  {
   "cell_type": "code",
   "execution_count": null,
   "metadata": {},
   "outputs": [],
   "source": [
    "component_stats.style.highlight_quantile(q_left=0.75)"
   ]
  },
  {
   "cell_type": "code",
   "execution_count": null,
   "metadata": {},
   "outputs": [],
   "source": [
    "component_r2 = pd.DataFrame(data={'price_r2': component_manager.get_variance(dealer_df, 'actual_price')}, index=component_features)"
   ]
  },
  {
   "cell_type": "code",
   "execution_count": null,
   "metadata": {},
   "outputs": [],
   "source": [
    "component_r2"
   ]
  },
  {
   "cell_type": "code",
   "execution_count": null,
   "metadata": {},
   "outputs": [],
   "source": [
    "get_widget_html('damage_features', damage_features, train_df, dealer_df, advert_df, test_df, options)"
   ]
  },
  {
   "cell_type": "code",
   "execution_count": null,
   "metadata": {},
   "outputs": [],
   "source": [
    "get_widget_html('component_features', component_features, train_df, dealer_df, advert_df, test_df, options)"
   ]
  },
  {
   "cell_type": "code",
   "execution_count": null,
   "metadata": {},
   "outputs": [],
   "source": [
    "get_multicat_info(train_df['protivoygonnaya_sistema_mult'].unique(), 'protivoygonnaya_sistema_mult', dfs=df_list, names=df_names, options=options)"
   ]
  },
  {
   "cell_type": "code",
   "execution_count": null,
   "metadata": {},
   "outputs": [],
   "source": [
    "# from dataprep.eda import plot, plot_correlation, plot_missing, plot_diff, create_report\n",
    "\n",
    "# create_report(dealer_df.drop(['start_date', 'close_date', 'Заднее стекло'], axis=1), progress=False).save('report_dealer_df.html')"
   ]
  }
 ],
 "metadata": {
  "kernelspec": {
   "display_name": "Python 3 (ipykernel)",
   "language": "python",
   "name": "python3"
  },
  "language_info": {
   "codemirror_mode": {
    "name": "ipython",
    "version": 3
   },
   "file_extension": ".py",
   "mimetype": "text/x-python",
   "name": "python",
   "nbconvert_exporter": "python",
   "pygments_lexer": "ipython3",
   "version": "3.10.2"
  }
 },
 "nbformat": 4,
 "nbformat_minor": 2
}
