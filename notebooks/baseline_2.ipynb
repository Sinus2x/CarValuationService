{
 "cells": [
  {
   "cell_type": "code",
   "execution_count": 1,
   "id": "741ef7db",
   "metadata": {},
   "outputs": [],
   "source": [
    "%load_ext autoreload\n",
    "%autoreload 2\n",
    "%config Completer.use_jedi = False"
   ]
  },
  {
   "cell_type": "code",
   "execution_count": 2,
   "id": "343d57f8",
   "metadata": {},
   "outputs": [],
   "source": [
    "import os\n",
    "import random\n",
    "import warnings\n",
    "\n",
    "import numpy as np\n",
    "import pandas as pd\n",
    "import pyarrow.feather as ft\n",
    "import catboost as cb\n",
    "from datetime import datetime, timedelta\n",
    "\n",
    "from scipy.stats import boxcox\n",
    "from scipy.special import inv_boxcox\n",
    "\n",
    "from catboost_utils import MedianAPE\n",
    "\n",
    "from tqdm import tqdm\n",
    "\n",
    "from base_price import BasePrice, DoubleRegression\n",
    "\n",
    "from matplotlib import pyplot as plt\n",
    "\n",
    "warnings.simplefilter('ignore')\n",
    "np.random.seed(10)"
   ]
  },
  {
   "cell_type": "code",
   "execution_count": 3,
   "id": "1e7f0803",
   "metadata": {},
   "outputs": [],
   "source": [
    "from scipy.stats import gmean, hmean"
   ]
  },
  {
   "cell_type": "code",
   "execution_count": 4,
   "id": "611a451f",
   "metadata": {},
   "outputs": [
    {
     "data": {
      "text/plain": [
       "(1424484, 70)"
      ]
     },
     "execution_count": 4,
     "metadata": {},
     "output_type": "execute_result"
    }
   ],
   "source": [
    "PATH = '../data'\n",
    "\n",
    "TRAIN_DATA = 'project_train.f'\n",
    "TEST_DATA = 'project_test_public.f'\n",
    "OPTION = 'option_names.csv'\n",
    "\n",
    "TRAIN_PATH = os.path.join(PATH, TRAIN_DATA)\n",
    "TEST_PATH = os.path.join(PATH, TEST_DATA)\n",
    "OPTION_PATH = os.path.join(PATH, OPTION)\n",
    "\n",
    "data = ft.read_feather(TRAIN_PATH)\n",
    "options = pd.read_csv(OPTION_PATH, index_col='id')\n",
    "data.shape"
   ]
  },
  {
   "cell_type": "code",
   "execution_count": 16,
   "id": "67b80b01",
   "metadata": {},
   "outputs": [
    {
     "data": {
      "text/plain": [
       "brand          model           \n",
       "Toyota         Corolla Fielder     [(2000—2004), (2003—2007), (2006—2012), (2008—...\n",
       "ИЖ             2715                                                      (1972—2001)\n",
       "SsangYong      Rodius                                                    (2007—2013)\n",
       "ВАЗ (LADA)     2102                                                      (1971—1986)\n",
       "Mazda          Atenza                                                    (2002—2008)\n",
       "Geely          Emgrand EC7                                               (2009—2016)\n",
       "Infiniti       FX30                                                      (2011—2013)\n",
       "Mercedes-Benz  GLA-класс                                  [(2013—2017), (2017—2020)]\n",
       "Mitsubishi     Pajero Pinin                                              (1998—2006)\n",
       "Cadillac       SRX                                        [(2009—2012), (2012—2016)]\n",
       "Subaru         Domingo                                                   (1983—1994)\n",
       "JAC            S3                                                        (2014—2023)\n",
       "Hyundai        Creta                         [(2016—2020), (2020—2021), (2021—2023)]\n",
       "BMW            8 серия                                                   (2018—2023)\n",
       "Haval          H9                                                        (2017—2023)\n",
       "Chery          IndiS (S18D)                                              (2011—2016)\n",
       "ВАЗ (LADA)     2112                                                      (1999—2009)\n",
       "Citroen        Grand C4 Picasso                                          (2016—2018)\n",
       "Mazda          MPV                                                       (1999—2003)\n",
       "Opel           Kadett                                                    (1984—1989)\n",
       "ВАЗ (LADA)     Niva Travel                                               (2020—2023)\n",
       "Volvo          S40                           [(1995—1999), (2004—2007), (2007—2012)]\n",
       "Mercedes-Benz  Sprinter Classic                                          (1995—2023)\n",
       "Mitsubishi     Grandis                                                   (2003—2011)\n",
       "Renault        Duster                        [(2010—2015), (2015—2021), (2019—2023)]\n",
       "ВАЗ (LADA)     2104                                                      (1984—2012)\n",
       "Mercedes-Benz  Maybach S-класс                                           (2013—2017)\n",
       "Opel           Frontera                                   [(1992—1998), (1998—2001)]\n",
       "BMW            6 серия                                    [(2003—2007), (2007—2010)]\n",
       "Kia            Carnival                                   [(2006—2014), (2014—2021)]\n",
       "Daewoo         Lanos                                                     (1997—2010)\n",
       "Kia            Rio                 [(1999—2002), (2002—2005), (2005—2009), (2009—...\n",
       "Haval          H6                                                        (2014—2020)\n",
       "Mazda          3 MPS                                                     (2006—2009)\n",
       "Volkswagen     Polo                [(1994—2002), (2001—2005), (2009—2015), (2015—...\n",
       "УАЗ            3962                                                      (1985—2023)\n",
       "Mazda          Bongo Friendee                                            (1995—1999)\n",
       "BMW            2 серия                                                   (2014—2017)\n",
       "Nissan         Sentra                                                    (2012—2017)\n",
       "Infiniti       EX35                                                      (2007—2013)\n",
       "ГАЗ            24 Волга                                                  (1985—1992)\n",
       "ВАЗ (LADA)     2131 (4x4) Urban                                          (2016—2019)\n",
       "Porsche        Cayenne S           [(2002—2007), (2007—2010), (2010—2014), (2017—...\n",
       "ВАЗ (LADA)     2121 (4x4) Urban                           [(2014—2019), (2019—2023)]\n",
       "Skoda          Rapid                                      [(2012—2017), (2019—2023)]\n",
       "Nissan         Bassara                                                   (1999—2003)\n",
       "Honda          HR-V                                       [(1998—2001), (2001—2006)]\n",
       "Ford           Scorpio                                                   (1985—1994)\n",
       "Renault        Koleos                        [(2008—2011), (2011—2013), (2016—2019)]\n",
       "Acura          MDX                                                       (2000—2006)\n",
       "Name: generation, dtype: object"
      ]
     },
     "execution_count": 16,
     "metadata": {},
     "output_type": "execute_result"
    }
   ],
   "source": [
    "data.groupby(['brand', 'model'])['generation'].agg(lambda x: np.unique([i.split(' ')[-1] for i in x])).sample(50)"
   ]
  },
  {
   "cell_type": "code",
   "execution_count": 5,
   "id": "ff2aad40",
   "metadata": {},
   "outputs": [],
   "source": [
    "mask = data.brand.eq('Mitsubishi') & data.model.eq('Lancer') & data.equipment.eq('Базовая') & data.generation.eq('X (2007—2010)') & data.year.eq(2008) & data.modification.eq('1.8 CVT (143 л.с.)')"
   ]
  },
  {
   "cell_type": "code",
   "execution_count": 6,
   "id": "357919f9",
   "metadata": {},
   "outputs": [],
   "source": [
    "my_vals = data[mask].actual_price.values"
   ]
  },
  {
   "cell_type": "code",
   "execution_count": 7,
   "id": "7f318500",
   "metadata": {},
   "outputs": [],
   "source": [
    "data['price'] = pd.to_numeric(data['price'])"
   ]
  },
  {
   "cell_type": "code",
   "execution_count": 8,
   "id": "3c488ec0",
   "metadata": {},
   "outputs": [
    {
     "data": {
      "text/plain": [
       "1332864    Компания “МОТОР ЛЕНД” имеет успешный опыт прод...\n",
       "1026478    Новое поступление в Автосалон CAR CITY! Рады в...\n",
       "1051048    Машина в очень хорошем состоянии,мотор работае...\n",
       "1314218    Присутствуют сколы и мелкие царапины! Крашены ...\n",
       "1237557    Авто для своих лет, сохранилось хорошо.\\nВсе с...\n",
       "33567      На отличном бодром ходу , доедет куда угодно в...\n",
       "1153886                          Машина в отличном состоянии\n",
       "224451     Абсолютно новый автомобиль! \\n Двухцветный кож...\n",
       "66344      Отличное состояние. Я владелец, оформлен на же...\n",
       "1258448    На ходу. Заводиться передвигается ,за месяц до...\n",
       "Name: description, dtype: object"
      ]
     },
     "execution_count": 8,
     "metadata": {},
     "output_type": "execute_result"
    }
   ],
   "source": [
    "data.description.sample(10)"
   ]
  },
  {
   "cell_type": "code",
   "execution_count": 9,
   "id": "ff139921",
   "metadata": {},
   "outputs": [
    {
     "data": {
      "text/html": [
       "<div>\n",
       "<style scoped>\n",
       "    .dataframe tbody tr th:only-of-type {\n",
       "        vertical-align: middle;\n",
       "    }\n",
       "\n",
       "    .dataframe tbody tr th {\n",
       "        vertical-align: top;\n",
       "    }\n",
       "\n",
       "    .dataframe thead tr th {\n",
       "        text-align: left;\n",
       "    }\n",
       "\n",
       "    .dataframe thead tr:last-of-type th {\n",
       "        text-align: right;\n",
       "    }\n",
       "</style>\n",
       "<table border=\"1\" class=\"dataframe\">\n",
       "  <thead>\n",
       "    <tr>\n",
       "      <th></th>\n",
       "      <th colspan=\"2\" halign=\"left\">brand</th>\n",
       "    </tr>\n",
       "    <tr>\n",
       "      <th></th>\n",
       "      <th>count</th>\n",
       "      <th>&lt;lambda_0&gt;</th>\n",
       "    </tr>\n",
       "    <tr>\n",
       "      <th>model</th>\n",
       "      <th></th>\n",
       "      <th></th>\n",
       "    </tr>\n",
       "  </thead>\n",
       "  <tbody>\n",
       "    <tr>\n",
       "      <th>2110</th>\n",
       "      <td>2</td>\n",
       "      <td>[Богдан, ВАЗ (LADA)]</td>\n",
       "    </tr>\n",
       "    <tr>\n",
       "      <th>Bongo</th>\n",
       "      <td>2</td>\n",
       "      <td>[Kia, Mazda]</td>\n",
       "    </tr>\n",
       "    <tr>\n",
       "      <th>Corsa</th>\n",
       "      <td>2</td>\n",
       "      <td>[Toyota, Opel]</td>\n",
       "    </tr>\n",
       "    <tr>\n",
       "      <th>Gentra</th>\n",
       "      <td>2</td>\n",
       "      <td>[Daewoo, Ravon]</td>\n",
       "    </tr>\n",
       "    <tr>\n",
       "      <th>Matrix</th>\n",
       "      <td>2</td>\n",
       "      <td>[Toyota, Hyundai]</td>\n",
       "    </tr>\n",
       "    <tr>\n",
       "      <th>Nexia</th>\n",
       "      <td>3</td>\n",
       "      <td>[Chevrolet, Ravon, Daewoo]</td>\n",
       "    </tr>\n",
       "    <tr>\n",
       "      <th>Niva</th>\n",
       "      <td>2</td>\n",
       "      <td>[Chevrolet, ВАЗ (LADA)]</td>\n",
       "    </tr>\n",
       "    <tr>\n",
       "      <th>Sprinter</th>\n",
       "      <td>2</td>\n",
       "      <td>[Mercedes-Benz, Toyota]</td>\n",
       "    </tr>\n",
       "    <tr>\n",
       "      <th>V5</th>\n",
       "      <td>2</td>\n",
       "      <td>[FAW, Brilliance]</td>\n",
       "    </tr>\n",
       "  </tbody>\n",
       "</table>\n",
       "</div>"
      ],
      "text/plain": [
       "         brand                            \n",
       "         count                  <lambda_0>\n",
       "model                                     \n",
       "2110         2        [Богдан, ВАЗ (LADA)]\n",
       "Bongo        2                [Kia, Mazda]\n",
       "Corsa        2              [Toyota, Opel]\n",
       "Gentra       2             [Daewoo, Ravon]\n",
       "Matrix       2           [Toyota, Hyundai]\n",
       "Nexia        3  [Chevrolet, Ravon, Daewoo]\n",
       "Niva         2     [Chevrolet, ВАЗ (LADA)]\n",
       "Sprinter     2     [Mercedes-Benz, Toyota]\n",
       "V5           2           [FAW, Brilliance]"
      ]
     },
     "execution_count": 9,
     "metadata": {},
     "output_type": "execute_result"
    }
   ],
   "source": [
    "bm = data[['brand', 'model']].drop_duplicates().groupby('model').agg(['count', lambda x: x.unique()])\n",
    "mask = bm.loc[:, ('brand', 'count')] > 1\n",
    "\n",
    "bm[mask]"
   ]
  },
  {
   "cell_type": "code",
   "execution_count": 10,
   "id": "a34b4ee5",
   "metadata": {},
   "outputs": [
    {
     "data": {
      "text/plain": [
       "brand\n",
       "Kia      2004\n",
       "Mazda    1983\n",
       "Name: year, dtype: int64"
      ]
     },
     "execution_count": 10,
     "metadata": {},
     "output_type": "execute_result"
    }
   ],
   "source": [
    "data[data.model.eq('Bongo')].groupby('brand').year.min()"
   ]
  },
  {
   "cell_type": "code",
   "execution_count": 11,
   "id": "e1f043cf",
   "metadata": {},
   "outputs": [],
   "source": [
    "data_advert = data[data.actual_price.isna()]\n",
    "data_dealer = data[data.actual_price.notna()]"
   ]
  },
  {
   "cell_type": "code",
   "execution_count": 12,
   "id": "a8636c4e",
   "metadata": {},
   "outputs": [
    {
     "data": {
      "text/plain": [
       "(81426, 70)"
      ]
     },
     "execution_count": 12,
     "metadata": {},
     "output_type": "execute_result"
    }
   ],
   "source": [
    "data_dealer.shape"
   ]
  },
  {
   "cell_type": "code",
   "execution_count": 13,
   "id": "6e52f80e",
   "metadata": {},
   "outputs": [
    {
     "data": {
      "text/html": [
       "<div>\n",
       "<style scoped>\n",
       "    .dataframe tbody tr th:only-of-type {\n",
       "        vertical-align: middle;\n",
       "    }\n",
       "\n",
       "    .dataframe tbody tr th {\n",
       "        vertical-align: top;\n",
       "    }\n",
       "\n",
       "    .dataframe thead th {\n",
       "        text-align: right;\n",
       "    }\n",
       "</style>\n",
       "<table border=\"1\" class=\"dataframe\">\n",
       "  <thead>\n",
       "    <tr style=\"text-align: right;\">\n",
       "      <th></th>\n",
       "      <th>actual_price</th>\n",
       "      <th>price</th>\n",
       "      <th>start_date</th>\n",
       "      <th>close_date</th>\n",
       "      <th>sale_end_date</th>\n",
       "      <th>brand</th>\n",
       "      <th>model</th>\n",
       "      <th>generation</th>\n",
       "      <th>modification</th>\n",
       "      <th>equipment</th>\n",
       "      <th>...</th>\n",
       "      <th>electroprivod_mult</th>\n",
       "      <th>fary_mult</th>\n",
       "      <th>multimedia_navigacia_mult</th>\n",
       "      <th>obogrev_mult</th>\n",
       "      <th>pamyat_nastroek_mult</th>\n",
       "      <th>podushki_bezopasnosti_mult</th>\n",
       "      <th>pomosh_pri_vozhdenii_mult</th>\n",
       "      <th>protivoygonnaya_sistema_mult</th>\n",
       "      <th>salon_mult</th>\n",
       "      <th>upravlenie_klimatom_mult</th>\n",
       "    </tr>\n",
       "  </thead>\n",
       "  <tbody>\n",
       "    <tr>\n",
       "      <th>0</th>\n",
       "      <td>NaN</td>\n",
       "      <td>1950000.0</td>\n",
       "      <td>2023-02-18 13:37:49.603445</td>\n",
       "      <td>2023-02-19 15:06:28.603039</td>\n",
       "      <td>NaT</td>\n",
       "      <td>Volkswagen</td>\n",
       "      <td>Passat</td>\n",
       "      <td>B8 (2014—2020)</td>\n",
       "      <td>2.0 TDI DSG (150 л.с.)</td>\n",
       "      <td>Highline</td>\n",
       "      <td>...</td>\n",
       "      <td>[13729]</td>\n",
       "      <td>[13783,13784]</td>\n",
       "      <td>[13763,13764,13765,13766,13767,13768,13769,137...</td>\n",
       "      <td>[13721,13722,13723,13724]</td>\n",
       "      <td>None</td>\n",
       "      <td>[13751,13752,13753,13754,13755]</td>\n",
       "      <td>[13739,13740,13741,13742,13744,13745,13746]</td>\n",
       "      <td>[13747,13748,13749]</td>\n",
       "      <td>[13719]</td>\n",
       "      <td>[13713]</td>\n",
       "    </tr>\n",
       "    <tr>\n",
       "      <th>1</th>\n",
       "      <td>NaN</td>\n",
       "      <td>1999000.0</td>\n",
       "      <td>2023-02-11 19:49:43.158681</td>\n",
       "      <td>2023-02-24 11:04:43.685727</td>\n",
       "      <td>NaT</td>\n",
       "      <td>Volkswagen</td>\n",
       "      <td>Passat</td>\n",
       "      <td>B8 (2014—2020)</td>\n",
       "      <td>2.0 TDI DSG (150 л.с.)</td>\n",
       "      <td>Highline</td>\n",
       "      <td>...</td>\n",
       "      <td>[13729,13733]</td>\n",
       "      <td>[13783,13784,13785]</td>\n",
       "      <td>[13763,13764,13765,13767,13768,13769,13770,137...</td>\n",
       "      <td>[13721,13723,13724]</td>\n",
       "      <td>None</td>\n",
       "      <td>[13751,13753,13754,13755]</td>\n",
       "      <td>[13739,13740,13741,13742,13744,13745,13746]</td>\n",
       "      <td>[13748,13749]</td>\n",
       "      <td>[13719]</td>\n",
       "      <td>[13712,13713]</td>\n",
       "    </tr>\n",
       "    <tr>\n",
       "      <th>2</th>\n",
       "      <td>NaN</td>\n",
       "      <td>1780000.0</td>\n",
       "      <td>2023-02-04 14:39:08.813905</td>\n",
       "      <td>2023-02-24 20:48:25.210683</td>\n",
       "      <td>NaT</td>\n",
       "      <td>Volkswagen</td>\n",
       "      <td>Passat</td>\n",
       "      <td>B8 (2014—2020)</td>\n",
       "      <td>2.0 TDI DSG (150 л.с.)</td>\n",
       "      <td>None</td>\n",
       "      <td>...</td>\n",
       "      <td>[13729,13731,13733]</td>\n",
       "      <td>[13783]</td>\n",
       "      <td>[13768,13772]</td>\n",
       "      <td>None</td>\n",
       "      <td>None</td>\n",
       "      <td>[13751,13752,13753,13754]</td>\n",
       "      <td>[13740,13741,13742,13744,13745,13746]</td>\n",
       "      <td>[13749]</td>\n",
       "      <td>None</td>\n",
       "      <td>None</td>\n",
       "    </tr>\n",
       "    <tr>\n",
       "      <th>3</th>\n",
       "      <td>NaN</td>\n",
       "      <td>1900000.0</td>\n",
       "      <td>2023-02-04 08:04:20.229815</td>\n",
       "      <td>2023-02-15 17:20:49.248078</td>\n",
       "      <td>NaT</td>\n",
       "      <td>Volkswagen</td>\n",
       "      <td>Passat</td>\n",
       "      <td>B8 (2014—2020)</td>\n",
       "      <td>2.0 TDI DSG (150 л.с.)</td>\n",
       "      <td>Highline</td>\n",
       "      <td>...</td>\n",
       "      <td>[13729,13731,13733]</td>\n",
       "      <td>[13783,13784,13785]</td>\n",
       "      <td>[13763,13764,13765,13768,13769,13770,13771,13772]</td>\n",
       "      <td>[13721,13723,13724]</td>\n",
       "      <td>None</td>\n",
       "      <td>[13751,13752,13753,13754,13755]</td>\n",
       "      <td>[13739,13740,13741,13742,13743,13744,13745,13746]</td>\n",
       "      <td>[13747,13749]</td>\n",
       "      <td>[13719]</td>\n",
       "      <td>[13712,13713]</td>\n",
       "    </tr>\n",
       "    <tr>\n",
       "      <th>4</th>\n",
       "      <td>NaN</td>\n",
       "      <td>1650000.0</td>\n",
       "      <td>2023-02-04 01:42:29.723361</td>\n",
       "      <td>2023-02-04 12:26:13.572696</td>\n",
       "      <td>NaT</td>\n",
       "      <td>Volkswagen</td>\n",
       "      <td>Passat</td>\n",
       "      <td>B8 (2014—2020)</td>\n",
       "      <td>2.0 TDI DSG (150 л.с.)</td>\n",
       "      <td>Conceptline</td>\n",
       "      <td>...</td>\n",
       "      <td>None</td>\n",
       "      <td>None</td>\n",
       "      <td>None</td>\n",
       "      <td>None</td>\n",
       "      <td>None</td>\n",
       "      <td>None</td>\n",
       "      <td>None</td>\n",
       "      <td>None</td>\n",
       "      <td>None</td>\n",
       "      <td>None</td>\n",
       "    </tr>\n",
       "    <tr>\n",
       "      <th>...</th>\n",
       "      <td>...</td>\n",
       "      <td>...</td>\n",
       "      <td>...</td>\n",
       "      <td>...</td>\n",
       "      <td>...</td>\n",
       "      <td>...</td>\n",
       "      <td>...</td>\n",
       "      <td>...</td>\n",
       "      <td>...</td>\n",
       "      <td>...</td>\n",
       "      <td>...</td>\n",
       "      <td>...</td>\n",
       "      <td>...</td>\n",
       "      <td>...</td>\n",
       "      <td>...</td>\n",
       "      <td>...</td>\n",
       "      <td>...</td>\n",
       "      <td>...</td>\n",
       "      <td>...</td>\n",
       "      <td>...</td>\n",
       "      <td>...</td>\n",
       "    </tr>\n",
       "    <tr>\n",
       "      <th>1424479</th>\n",
       "      <td>NaN</td>\n",
       "      <td>440000.0</td>\n",
       "      <td>2022-03-12 18:26:29.843707</td>\n",
       "      <td>2022-03-13 17:57:18.947006</td>\n",
       "      <td>NaT</td>\n",
       "      <td>Toyota</td>\n",
       "      <td>Ipsum</td>\n",
       "      <td>M10 (1995—2001)</td>\n",
       "      <td>2.0 4WD AT (135 л.с.)</td>\n",
       "      <td>Базовая</td>\n",
       "      <td>...</td>\n",
       "      <td>[13731,13733]</td>\n",
       "      <td>None</td>\n",
       "      <td>[13764,13765,13770,13771]</td>\n",
       "      <td>[13724]</td>\n",
       "      <td>None</td>\n",
       "      <td>[13751]</td>\n",
       "      <td>None</td>\n",
       "      <td>[13748]</td>\n",
       "      <td>None</td>\n",
       "      <td>None</td>\n",
       "    </tr>\n",
       "    <tr>\n",
       "      <th>1424480</th>\n",
       "      <td>NaN</td>\n",
       "      <td>385000.0</td>\n",
       "      <td>2022-03-09 06:13:27.888078</td>\n",
       "      <td>2022-03-09 16:02:01.600249</td>\n",
       "      <td>NaT</td>\n",
       "      <td>Toyota</td>\n",
       "      <td>Ipsum</td>\n",
       "      <td>M10 (1995—2001)</td>\n",
       "      <td>2.0 4WD AT (135 л.с.)</td>\n",
       "      <td>Базовая</td>\n",
       "      <td>...</td>\n",
       "      <td>None</td>\n",
       "      <td>None</td>\n",
       "      <td>None</td>\n",
       "      <td>None</td>\n",
       "      <td>None</td>\n",
       "      <td>None</td>\n",
       "      <td>None</td>\n",
       "      <td>None</td>\n",
       "      <td>None</td>\n",
       "      <td>None</td>\n",
       "    </tr>\n",
       "    <tr>\n",
       "      <th>1424481</th>\n",
       "      <td>NaN</td>\n",
       "      <td>485000.0</td>\n",
       "      <td>2022-03-06 17:47:12.636290</td>\n",
       "      <td>2022-03-16 17:16:43.982866</td>\n",
       "      <td>NaT</td>\n",
       "      <td>Toyota</td>\n",
       "      <td>Ipsum</td>\n",
       "      <td>M10 (1995—2001)</td>\n",
       "      <td>2.0 4WD AT (135 л.с.)</td>\n",
       "      <td>Базовая</td>\n",
       "      <td>...</td>\n",
       "      <td>None</td>\n",
       "      <td>None</td>\n",
       "      <td>None</td>\n",
       "      <td>None</td>\n",
       "      <td>None</td>\n",
       "      <td>None</td>\n",
       "      <td>None</td>\n",
       "      <td>None</td>\n",
       "      <td>None</td>\n",
       "      <td>None</td>\n",
       "    </tr>\n",
       "    <tr>\n",
       "      <th>1424482</th>\n",
       "      <td>NaN</td>\n",
       "      <td>477000.0</td>\n",
       "      <td>2022-03-05 15:23:52.626344</td>\n",
       "      <td>2022-04-01 09:33:01.959260</td>\n",
       "      <td>NaT</td>\n",
       "      <td>Toyota</td>\n",
       "      <td>Ipsum</td>\n",
       "      <td>M10 (1995—2001)</td>\n",
       "      <td>2.0 4WD AT (135 л.с.)</td>\n",
       "      <td>Базовая</td>\n",
       "      <td>...</td>\n",
       "      <td>None</td>\n",
       "      <td>None</td>\n",
       "      <td>None</td>\n",
       "      <td>None</td>\n",
       "      <td>None</td>\n",
       "      <td>None</td>\n",
       "      <td>None</td>\n",
       "      <td>None</td>\n",
       "      <td>None</td>\n",
       "      <td>None</td>\n",
       "    </tr>\n",
       "    <tr>\n",
       "      <th>1424483</th>\n",
       "      <td>NaN</td>\n",
       "      <td>380000.0</td>\n",
       "      <td>2022-03-02 18:44:04.325244</td>\n",
       "      <td>2022-03-07 08:36:38.999154</td>\n",
       "      <td>NaT</td>\n",
       "      <td>Toyota</td>\n",
       "      <td>Ipsum</td>\n",
       "      <td>M10 (1995—2001)</td>\n",
       "      <td>2.0 4WD AT (135 л.с.)</td>\n",
       "      <td>Базовая</td>\n",
       "      <td>...</td>\n",
       "      <td>[13731]</td>\n",
       "      <td>None</td>\n",
       "      <td>[13763,13764,13765,13769]</td>\n",
       "      <td>None</td>\n",
       "      <td>None</td>\n",
       "      <td>[13754]</td>\n",
       "      <td>[13741]</td>\n",
       "      <td>[13747,13748]</td>\n",
       "      <td>None</td>\n",
       "      <td>None</td>\n",
       "    </tr>\n",
       "  </tbody>\n",
       "</table>\n",
       "<p>1343058 rows × 70 columns</p>\n",
       "</div>"
      ],
      "text/plain": [
       "         actual_price      price                 start_date  \\\n",
       "0                 NaN  1950000.0 2023-02-18 13:37:49.603445   \n",
       "1                 NaN  1999000.0 2023-02-11 19:49:43.158681   \n",
       "2                 NaN  1780000.0 2023-02-04 14:39:08.813905   \n",
       "3                 NaN  1900000.0 2023-02-04 08:04:20.229815   \n",
       "4                 NaN  1650000.0 2023-02-04 01:42:29.723361   \n",
       "...               ...        ...                        ...   \n",
       "1424479           NaN   440000.0 2022-03-12 18:26:29.843707   \n",
       "1424480           NaN   385000.0 2022-03-09 06:13:27.888078   \n",
       "1424481           NaN   485000.0 2022-03-06 17:47:12.636290   \n",
       "1424482           NaN   477000.0 2022-03-05 15:23:52.626344   \n",
       "1424483           NaN   380000.0 2022-03-02 18:44:04.325244   \n",
       "\n",
       "                        close_date sale_end_date       brand   model  \\\n",
       "0       2023-02-19 15:06:28.603039           NaT  Volkswagen  Passat   \n",
       "1       2023-02-24 11:04:43.685727           NaT  Volkswagen  Passat   \n",
       "2       2023-02-24 20:48:25.210683           NaT  Volkswagen  Passat   \n",
       "3       2023-02-15 17:20:49.248078           NaT  Volkswagen  Passat   \n",
       "4       2023-02-04 12:26:13.572696           NaT  Volkswagen  Passat   \n",
       "...                            ...           ...         ...     ...   \n",
       "1424479 2022-03-13 17:57:18.947006           NaT      Toyota   Ipsum   \n",
       "1424480 2022-03-09 16:02:01.600249           NaT      Toyota   Ipsum   \n",
       "1424481 2022-03-16 17:16:43.982866           NaT      Toyota   Ipsum   \n",
       "1424482 2022-04-01 09:33:01.959260           NaT      Toyota   Ipsum   \n",
       "1424483 2022-03-07 08:36:38.999154           NaT      Toyota   Ipsum   \n",
       "\n",
       "              generation            modification    equipment  ...  \\\n",
       "0         B8 (2014—2020)  2.0 TDI DSG (150 л.с.)     Highline  ...   \n",
       "1         B8 (2014—2020)  2.0 TDI DSG (150 л.с.)     Highline  ...   \n",
       "2         B8 (2014—2020)  2.0 TDI DSG (150 л.с.)         None  ...   \n",
       "3         B8 (2014—2020)  2.0 TDI DSG (150 л.с.)     Highline  ...   \n",
       "4         B8 (2014—2020)  2.0 TDI DSG (150 л.с.)  Conceptline  ...   \n",
       "...                  ...                     ...          ...  ...   \n",
       "1424479  M10 (1995—2001)   2.0 4WD AT (135 л.с.)      Базовая  ...   \n",
       "1424480  M10 (1995—2001)   2.0 4WD AT (135 л.с.)      Базовая  ...   \n",
       "1424481  M10 (1995—2001)   2.0 4WD AT (135 л.с.)      Базовая  ...   \n",
       "1424482  M10 (1995—2001)   2.0 4WD AT (135 л.с.)      Базовая  ...   \n",
       "1424483  M10 (1995—2001)   2.0 4WD AT (135 л.с.)      Базовая  ...   \n",
       "\n",
       "          electroprivod_mult            fary_mult  \\\n",
       "0                    [13729]        [13783,13784]   \n",
       "1              [13729,13733]  [13783,13784,13785]   \n",
       "2        [13729,13731,13733]              [13783]   \n",
       "3        [13729,13731,13733]  [13783,13784,13785]   \n",
       "4                       None                 None   \n",
       "...                      ...                  ...   \n",
       "1424479        [13731,13733]                 None   \n",
       "1424480                 None                 None   \n",
       "1424481                 None                 None   \n",
       "1424482                 None                 None   \n",
       "1424483              [13731]                 None   \n",
       "\n",
       "                                 multimedia_navigacia_mult  \\\n",
       "0        [13763,13764,13765,13766,13767,13768,13769,137...   \n",
       "1        [13763,13764,13765,13767,13768,13769,13770,137...   \n",
       "2                                            [13768,13772]   \n",
       "3        [13763,13764,13765,13768,13769,13770,13771,13772]   \n",
       "4                                                     None   \n",
       "...                                                    ...   \n",
       "1424479                          [13764,13765,13770,13771]   \n",
       "1424480                                               None   \n",
       "1424481                                               None   \n",
       "1424482                                               None   \n",
       "1424483                          [13763,13764,13765,13769]   \n",
       "\n",
       "                      obogrev_mult  pamyat_nastroek_mult  \\\n",
       "0        [13721,13722,13723,13724]                  None   \n",
       "1              [13721,13723,13724]                  None   \n",
       "2                             None                  None   \n",
       "3              [13721,13723,13724]                  None   \n",
       "4                             None                  None   \n",
       "...                            ...                   ...   \n",
       "1424479                    [13724]                  None   \n",
       "1424480                       None                  None   \n",
       "1424481                       None                  None   \n",
       "1424482                       None                  None   \n",
       "1424483                       None                  None   \n",
       "\n",
       "              podushki_bezopasnosti_mult  \\\n",
       "0        [13751,13752,13753,13754,13755]   \n",
       "1              [13751,13753,13754,13755]   \n",
       "2              [13751,13752,13753,13754]   \n",
       "3        [13751,13752,13753,13754,13755]   \n",
       "4                                   None   \n",
       "...                                  ...   \n",
       "1424479                          [13751]   \n",
       "1424480                             None   \n",
       "1424481                             None   \n",
       "1424482                             None   \n",
       "1424483                          [13754]   \n",
       "\n",
       "                                 pomosh_pri_vozhdenii_mult  \\\n",
       "0              [13739,13740,13741,13742,13744,13745,13746]   \n",
       "1              [13739,13740,13741,13742,13744,13745,13746]   \n",
       "2                    [13740,13741,13742,13744,13745,13746]   \n",
       "3        [13739,13740,13741,13742,13743,13744,13745,13746]   \n",
       "4                                                     None   \n",
       "...                                                    ...   \n",
       "1424479                                               None   \n",
       "1424480                                               None   \n",
       "1424481                                               None   \n",
       "1424482                                               None   \n",
       "1424483                                            [13741]   \n",
       "\n",
       "         protivoygonnaya_sistema_mult  salon_mult upravlenie_klimatom_mult  \n",
       "0                 [13747,13748,13749]     [13719]                  [13713]  \n",
       "1                       [13748,13749]     [13719]            [13712,13713]  \n",
       "2                             [13749]        None                     None  \n",
       "3                       [13747,13749]     [13719]            [13712,13713]  \n",
       "4                                None        None                     None  \n",
       "...                               ...         ...                      ...  \n",
       "1424479                       [13748]        None                     None  \n",
       "1424480                          None        None                     None  \n",
       "1424481                          None        None                     None  \n",
       "1424482                          None        None                     None  \n",
       "1424483                 [13747,13748]        None                     None  \n",
       "\n",
       "[1343058 rows x 70 columns]"
      ]
     },
     "execution_count": 13,
     "metadata": {},
     "output_type": "execute_result"
    }
   ],
   "source": [
    "data_advert"
   ]
  },
  {
   "attachments": {},
   "cell_type": "markdown",
   "id": "f3bb60b8",
   "metadata": {},
   "source": [
    "779358 919956 799565 94251 1114799"
   ]
  },
  {
   "cell_type": "code",
   "execution_count": 14,
   "id": "08762da6",
   "metadata": {},
   "outputs": [
    {
     "data": {
      "text/plain": [
       "((81426, 68), (1343058, 66))"
      ]
     },
     "execution_count": 14,
     "metadata": {},
     "output_type": "execute_result"
    }
   ],
   "source": [
    "data_dealer = data[data['actual_price'].notna()].drop(labels=['start_date', 'close_date'], axis=1)\n",
    "data_advert = data[data['actual_price'].isna()].drop(labels=['sale_end_date', 'actual_price', 'crashes', 'is_taxi', 'is_carsharing'], axis=1)\n",
    "\n",
    "data_dealer['sale_end_date'] = pd.to_datetime(data_dealer['sale_end_date'])\n",
    "data_advert['start_date'] = pd.to_datetime(data_advert['start_date'])\n",
    "data_advert['close_date'] = pd.to_datetime(data_advert['close_date'])\n",
    "data_advert['selling_time'] = (data_advert['close_date'] - data_advert['start_date']).dt.days\n",
    "\n",
    "data_dealer.shape, data_advert.shape"
   ]
  },
  {
   "cell_type": "code",
   "execution_count": 15,
   "id": "8ab1c71b",
   "metadata": {},
   "outputs": [
    {
     "data": {
      "text/plain": [
       "1"
      ]
     },
     "execution_count": 15,
     "metadata": {},
     "output_type": "execute_result"
    }
   ],
   "source": [
    "data.groupby(['brand']).model.count().le(13).sum()"
   ]
  },
  {
   "cell_type": "code",
   "execution_count": 16,
   "id": "89ef41f3",
   "metadata": {},
   "outputs": [],
   "source": [
    "def get_metric(y_true, y_pred):\n",
    "    bias = pd.Series((y_true - y_pred) / y_true * 100, name='bias')\n",
    "    stats = pd.concat([\n",
    "        bias.describe(),\n",
    "        bias.abs().describe(),\n",
    "    ], axis=1)\n",
    "    stats.columns = ['bias', 'MAPE']\n",
    "\n",
    "    return stats\n",
    "\n",
    "def style_median_ape(df):\n",
    "    color = 'background-color: lightgreen'\n",
    "    df_style = pd.DataFrame('', index=df.index, columns=df.columns)\n",
    "    df_style.loc['50%', 'MAPE'] = color\n",
    "    return df_style\n",
    "\n",
    "def show_top_errors(df, y_pred, top_k=10):\n",
    "    x = df.copy()\n",
    "    x['base_price'] = y_pred\n",
    "    x['bias'] = (x['actual_price'] - y_pred) / x['actual_price'] * 100\n",
    "    x['ape'] = np.abs(x['bias'])\n",
    "    idx = np.argpartition(x['ape'].values, len(x['ape'].values) - top_k)[-top_k:]\n",
    "    x = x[['bias', 'base_price', 'actual_price', 'price', 'sale_end_date', 'brand', 'model', 'generation', 'modification', 'year']]\n",
    "    return x.iloc[idx]"
   ]
  },
  {
   "cell_type": "code",
   "execution_count": 17,
   "id": "918d11ad",
   "metadata": {},
   "outputs": [],
   "source": [
    "# data_dealer.to_csv('data_dealer.csv', index=False)\n",
    "# data_advert.to_csv('data_advert.csv', index=False)"
   ]
  },
  {
   "cell_type": "code",
   "execution_count": 18,
   "id": "42155ec5",
   "metadata": {},
   "outputs": [],
   "source": [
    "data_advert['selling_time'] = data_advert['selling_time'].apply(lambda x: 0 if x < 0 else x)"
   ]
  },
  {
   "cell_type": "code",
   "execution_count": 19,
   "id": "8e4dc050",
   "metadata": {},
   "outputs": [
    {
     "data": {
      "text/plain": [
       "744465"
      ]
     },
     "execution_count": 19,
     "metadata": {},
     "output_type": "execute_result"
    }
   ],
   "source": [
    "selling_time_counts = data_advert['selling_time'].value_counts().sort_index()\n",
    "selling_time_counts[(selling_time_counts.index > 7) & (selling_time_counts.index < 90)].sum()"
   ]
  },
  {
   "cell_type": "code",
   "execution_count": 20,
   "id": "781fd0da",
   "metadata": {},
   "outputs": [
    {
     "data": {
      "text/plain": [
       "1203"
      ]
     },
     "execution_count": 20,
     "metadata": {},
     "output_type": "execute_result"
    }
   ],
   "source": [
    "data_advert.brand.unique()\n",
    "(~data_advert.brand.isin(data_dealer.brand.unique())).sum()"
   ]
  },
  {
   "cell_type": "code",
   "execution_count": 21,
   "id": "bfc3c1c8",
   "metadata": {},
   "outputs": [],
   "source": [
    "# pd.Series(boxcox(data_advert.selling_time)[0]).plot.hist(bins=20)"
   ]
  },
  {
   "cell_type": "code",
   "execution_count": 22,
   "id": "c39aa749",
   "metadata": {},
   "outputs": [
    {
     "data": {
      "text/plain": [
       "<AxesSubplot:ylabel='Frequency'>"
      ]
     },
     "execution_count": 22,
     "metadata": {},
     "output_type": "execute_result"
    },
    {
     "data": {
      "image/png": "[encoded data removed]",
      "text/plain": [
       "<Figure size 432x288 with 1 Axes>"
      ]
     },
     "metadata": {
      "needs_background": "light"
     },
     "output_type": "display_data"
    }
   ],
   "source": [
    "data_advert.selling_time.plot.hist(bins=20)"
   ]
  },
  {
   "cell_type": "code",
   "execution_count": 23,
   "id": "8a535902",
   "metadata": {},
   "outputs": [
    {
     "data": {
      "text/plain": [
       "<AxesSubplot:ylabel='Frequency'>"
      ]
     },
     "execution_count": 23,
     "metadata": {},
     "output_type": "execute_result"
    },
    {
     "data": {
      "image/png": "[encoded data removed]",
      "text/plain": [
       "<Figure size 432x288 with 1 Axes>"
      ]
     },
     "metadata": {
      "needs_background": "light"
     },
     "output_type": "display_data"
    }
   ],
   "source": [
    "data_advert.selling_time.apply(np.log1p).plot.hist(bins=20)"
   ]
  },
  {
   "cell_type": "code",
   "execution_count": 24,
   "id": "e8943247",
   "metadata": {},
   "outputs": [
    {
     "data": {
      "text/plain": [
       "count    1.343058e+06\n",
       "mean     2.775878e+00\n",
       "std      1.491634e+00\n",
       "min      0.000000e+00\n",
       "25%      1.791759e+00\n",
       "50%      2.995732e+00\n",
       "75%      3.891820e+00\n",
       "max      5.899897e+00\n",
       "Name: selling_time, dtype: float64"
      ]
     },
     "execution_count": 24,
     "metadata": {},
     "output_type": "execute_result"
    }
   ],
   "source": [
    "data_advert.selling_time.apply(np.log1p).describe()"
   ]
  },
  {
   "cell_type": "code",
   "execution_count": 25,
   "id": "c7442d3f",
   "metadata": {},
   "outputs": [],
   "source": [
    "data_advert = data_advert[(data_advert.selling_time > 7) & (data_advert.selling_time < 90)]"
   ]
  },
  {
   "attachments": {},
   "cell_type": "markdown",
   "id": "6bc3726d",
   "metadata": {},
   "source": [
    "(data_advert.selling_time == 30) & (data_advert.selling_time == 60)"
   ]
  },
  {
   "cell_type": "code",
   "execution_count": 27,
   "id": "847903de",
   "metadata": {},
   "outputs": [
    {
     "name": "stdout",
     "output_type": "stream",
     "text": [
      "Train rows: 58301\n",
      "Min train date: 2022-06-11 00:00:00\n",
      "Max train date: 2022-12-07 00:00:00\n",
      "Val rows: 11508\n",
      "Min val date: 2022-12-08 00:00:00\n",
      "Max val date: 2023-01-06 00:00:00\n"
     ]
    }
   ],
   "source": [
    "last_n_days = 30\n",
    "last_date = data_dealer['sale_end_date'].max()\n",
    "train = data_dealer[data_dealer['sale_end_date'] <= last_date - 2 * timedelta(last_n_days)]\n",
    "val = data_dealer[(data_dealer['sale_end_date'] > last_date - 2 * timedelta(last_n_days)) & (data_dealer['sale_end_date'] <= last_date - timedelta(last_n_days))]\n",
    "delayed_test = data_dealer[data_dealer['sale_end_date'] > last_date - timedelta(last_n_days)]\n",
    "\n",
    "print(f'Train rows: {train.shape[0]}')\n",
    "print(f'Min train date: {train.sale_end_date.min()}')\n",
    "print(f'Max train date: {train.sale_end_date.max()}')\n",
    "print(f'Val rows: {val.shape[0]}')\n",
    "print(f'Min val date: {val.sale_end_date.min()}')\n",
    "print(f'Max val date: {val.sale_end_date.max()}')"
   ]
  },
  {
   "cell_type": "code",
   "execution_count": 28,
   "id": "bbd5f75a",
   "metadata": {},
   "outputs": [
    {
     "data": {
      "text/html": [
       "<style type=\"text/css\">\n",
       "#T_b35c7_row5_col1 {\n",
       "  background-color: lightgreen;\n",
       "}\n",
       "</style>\n",
       "<table id=\"T_b35c7_\">\n",
       "  <thead>\n",
       "    <tr>\n",
       "      <th class=\"blank level0\" >&nbsp;</th>\n",
       "      <th class=\"col_heading level0 col0\" >bias</th>\n",
       "      <th class=\"col_heading level0 col1\" >MAPE</th>\n",
       "    </tr>\n",
       "  </thead>\n",
       "  <tbody>\n",
       "    <tr>\n",
       "      <th id=\"T_b35c7_level0_row0\" class=\"row_heading level0 row0\" >count</th>\n",
       "      <td id=\"T_b35c7_row0_col0\" class=\"data row0 col0\" >11508.000000</td>\n",
       "      <td id=\"T_b35c7_row0_col1\" class=\"data row0 col1\" >11508.000000</td>\n",
       "    </tr>\n",
       "    <tr>\n",
       "      <th id=\"T_b35c7_level0_row1\" class=\"row_heading level0 row1\" >mean</th>\n",
       "      <td id=\"T_b35c7_row1_col0\" class=\"data row1 col0\" >-4.748077</td>\n",
       "      <td id=\"T_b35c7_row1_col1\" class=\"data row1 col1\" >12.847611</td>\n",
       "    </tr>\n",
       "    <tr>\n",
       "      <th id=\"T_b35c7_level0_row2\" class=\"row_heading level0 row2\" >std</th>\n",
       "      <td id=\"T_b35c7_row2_col0\" class=\"data row2 col0\" >27.252378</td>\n",
       "      <td id=\"T_b35c7_row2_col1\" class=\"data row2 col1\" >24.498221</td>\n",
       "    </tr>\n",
       "    <tr>\n",
       "      <th id=\"T_b35c7_level0_row3\" class=\"row_heading level0 row3\" >min</th>\n",
       "      <td id=\"T_b35c7_row3_col0\" class=\"data row3 col0\" >-2211.265556</td>\n",
       "      <td id=\"T_b35c7_row3_col1\" class=\"data row3 col1\" >0.000000</td>\n",
       "    </tr>\n",
       "    <tr>\n",
       "      <th id=\"T_b35c7_level0_row4\" class=\"row_heading level0 row4\" >25%</th>\n",
       "      <td id=\"T_b35c7_row4_col0\" class=\"data row4 col0\" >-12.969104</td>\n",
       "      <td id=\"T_b35c7_row4_col1\" class=\"data row4 col1\" >4.174493</td>\n",
       "    </tr>\n",
       "    <tr>\n",
       "      <th id=\"T_b35c7_level0_row5\" class=\"row_heading level0 row5\" >50%</th>\n",
       "      <td id=\"T_b35c7_row5_col0\" class=\"data row5 col0\" >-2.065572</td>\n",
       "      <td id=\"T_b35c7_row5_col1\" class=\"data row5 col1\" >9.419479</td>\n",
       "    </tr>\n",
       "    <tr>\n",
       "      <th id=\"T_b35c7_level0_row6\" class=\"row_heading level0 row6\" >75%</th>\n",
       "      <td id=\"T_b35c7_row6_col0\" class=\"data row6 col0\" >6.639017</td>\n",
       "      <td id=\"T_b35c7_row6_col1\" class=\"data row6 col1\" >17.098519</td>\n",
       "    </tr>\n",
       "    <tr>\n",
       "      <th id=\"T_b35c7_level0_row7\" class=\"row_heading level0 row7\" >max</th>\n",
       "      <td id=\"T_b35c7_row7_col0\" class=\"data row7 col0\" >46.547573</td>\n",
       "      <td id=\"T_b35c7_row7_col1\" class=\"data row7 col1\" >2211.265556</td>\n",
       "    </tr>\n",
       "  </tbody>\n",
       "</table>\n"
      ],
      "text/plain": [
       "<pandas.io.formats.style.Styler at 0x7f3d31a27490>"
      ]
     },
     "execution_count": 28,
     "metadata": {},
     "output_type": "execute_result"
    }
   ],
   "source": [
    "# grouper = BasePrice(['brand', 'model', 'year']) # avg price per week/month, использовать цены за последние 3 месяца\n",
    "# grouper.fit(data)\n",
    "# y_pred = grouper.predict(val)\n",
    "# get_metric(val['actual_price'].values, y_pred).style.apply(style_median_ape, axis=None)"
   ]
  },
  {
   "cell_type": "code",
   "execution_count": 29,
   "id": "ce89787a",
   "metadata": {},
   "outputs": [
    {
     "data": {
      "text/plain": [
       "(557,)"
      ]
     },
     "execution_count": 29,
     "metadata": {},
     "output_type": "execute_result"
    }
   ],
   "source": [
    "train.groupby(['brand', 'model'])['actual_price'].count().index.values.shape"
   ]
  },
  {
   "cell_type": "code",
   "execution_count": 31,
   "id": "b47ad33d",
   "metadata": {},
   "outputs": [
    {
     "data": {
      "text/html": [
       "<div>\n",
       "<style scoped>\n",
       "    .dataframe tbody tr th:only-of-type {\n",
       "        vertical-align: middle;\n",
       "    }\n",
       "\n",
       "    .dataframe tbody tr th {\n",
       "        vertical-align: top;\n",
       "    }\n",
       "\n",
       "    .dataframe thead th {\n",
       "        text-align: right;\n",
       "    }\n",
       "</style>\n",
       "<table border=\"1\" class=\"dataframe\">\n",
       "  <thead>\n",
       "    <tr style=\"text-align: right;\">\n",
       "      <th></th>\n",
       "      <th>bias</th>\n",
       "      <th>base_price</th>\n",
       "      <th>actual_price</th>\n",
       "      <th>price</th>\n",
       "      <th>sale_end_date</th>\n",
       "      <th>brand</th>\n",
       "      <th>model</th>\n",
       "      <th>generation</th>\n",
       "      <th>modification</th>\n",
       "      <th>year</th>\n",
       "    </tr>\n",
       "  </thead>\n",
       "  <tbody>\n",
       "    <tr>\n",
       "      <th>726266</th>\n",
       "      <td>-62.272727</td>\n",
       "      <td>5.355000e+05</td>\n",
       "      <td>330000.0</td>\n",
       "      <td>330000.0</td>\n",
       "      <td>2022-12-24</td>\n",
       "      <td>Volvo</td>\n",
       "      <td>XC70</td>\n",
       "      <td>I рестайлинг (2004—2007)</td>\n",
       "      <td>2.5 4WD AT (210 л.с.)</td>\n",
       "      <td>2005</td>\n",
       "    </tr>\n",
       "    <tr>\n",
       "      <th>94887</th>\n",
       "      <td>-62.649006</td>\n",
       "      <td>1.951788e+06</td>\n",
       "      <td>1200000.0</td>\n",
       "      <td>1400000.0</td>\n",
       "      <td>2022-12-13</td>\n",
       "      <td>Skoda</td>\n",
       "      <td>Octavia</td>\n",
       "      <td>III рестайлинг (2017—2020)</td>\n",
       "      <td>1.4 TSI DSG (150 л.с.)</td>\n",
       "      <td>2020</td>\n",
       "    </tr>\n",
       "    <tr>\n",
       "      <th>500514</th>\n",
       "      <td>-62.651224</td>\n",
       "      <td>5.188574e+05</td>\n",
       "      <td>319000.0</td>\n",
       "      <td>510000.0</td>\n",
       "      <td>2022-12-19</td>\n",
       "      <td>Skoda</td>\n",
       "      <td>Fabia</td>\n",
       "      <td>II рестайлинг (2010—2014)</td>\n",
       "      <td>1.4 MT (86 л.с.)</td>\n",
       "      <td>2011</td>\n",
       "    </tr>\n",
       "    <tr>\n",
       "      <th>516497</th>\n",
       "      <td>-62.651224</td>\n",
       "      <td>5.188574e+05</td>\n",
       "      <td>319000.0</td>\n",
       "      <td>329000.0</td>\n",
       "      <td>2022-12-19</td>\n",
       "      <td>Skoda</td>\n",
       "      <td>Fabia</td>\n",
       "      <td>II рестайлинг (2010—2014)</td>\n",
       "      <td>1.4 MT (86 л.с.)</td>\n",
       "      <td>2011</td>\n",
       "    </tr>\n",
       "    <tr>\n",
       "      <th>1159780</th>\n",
       "      <td>-63.183894</td>\n",
       "      <td>1.378904e+06</td>\n",
       "      <td>845000.0</td>\n",
       "      <td>795000.0</td>\n",
       "      <td>2022-12-25</td>\n",
       "      <td>Audi</td>\n",
       "      <td>A3</td>\n",
       "      <td>8V (2012—2016)</td>\n",
       "      <td>1.4 TFSI S tronic (125 л.с.)</td>\n",
       "      <td>2016</td>\n",
       "    </tr>\n",
       "    <tr>\n",
       "      <th>...</th>\n",
       "      <td>...</td>\n",
       "      <td>...</td>\n",
       "      <td>...</td>\n",
       "      <td>...</td>\n",
       "      <td>...</td>\n",
       "      <td>...</td>\n",
       "      <td>...</td>\n",
       "      <td>...</td>\n",
       "      <td>...</td>\n",
       "      <td>...</td>\n",
       "    </tr>\n",
       "    <tr>\n",
       "      <th>1121895</th>\n",
       "      <td>-76.366867</td>\n",
       "      <td>4.409172e+05</td>\n",
       "      <td>250000.0</td>\n",
       "      <td>259000.0</td>\n",
       "      <td>2022-12-19</td>\n",
       "      <td>Hyundai</td>\n",
       "      <td>Elantra</td>\n",
       "      <td>III рестайлинг (2003—2010)</td>\n",
       "      <td>1.6 MT (105 л.с.) ТагАЗ</td>\n",
       "      <td>2008</td>\n",
       "    </tr>\n",
       "    <tr>\n",
       "      <th>1255772</th>\n",
       "      <td>-125.025485</td>\n",
       "      <td>4.252982e+05</td>\n",
       "      <td>189000.0</td>\n",
       "      <td>249000.0</td>\n",
       "      <td>2022-12-23</td>\n",
       "      <td>Volkswagen</td>\n",
       "      <td>Touran</td>\n",
       "      <td>I рестайлинг (2006—2010)</td>\n",
       "      <td>1.4 TSI MT (140 л.с.)</td>\n",
       "      <td>2007</td>\n",
       "    </tr>\n",
       "    <tr>\n",
       "      <th>349488</th>\n",
       "      <td>-93.622803</td>\n",
       "      <td>6.234654e+05</td>\n",
       "      <td>322000.0</td>\n",
       "      <td>387000.0</td>\n",
       "      <td>2022-12-14</td>\n",
       "      <td>Kia</td>\n",
       "      <td>Picanto</td>\n",
       "      <td>II (2011—2015)</td>\n",
       "      <td>1.0 MT (69 л.с.)</td>\n",
       "      <td>2012</td>\n",
       "    </tr>\n",
       "    <tr>\n",
       "      <th>582927</th>\n",
       "      <td>-66.937623</td>\n",
       "      <td>5.091598e+05</td>\n",
       "      <td>305000.0</td>\n",
       "      <td>542000.0</td>\n",
       "      <td>2022-12-31</td>\n",
       "      <td>Nissan</td>\n",
       "      <td>Note</td>\n",
       "      <td>E11 рестайлинг (2008—2013)</td>\n",
       "      <td>1.4 MT (88 л.с.)</td>\n",
       "      <td>2010</td>\n",
       "    </tr>\n",
       "    <tr>\n",
       "      <th>798706</th>\n",
       "      <td>-74.439696</td>\n",
       "      <td>8.233554e+05</td>\n",
       "      <td>472000.0</td>\n",
       "      <td>520000.0</td>\n",
       "      <td>2022-12-08</td>\n",
       "      <td>Ford</td>\n",
       "      <td>Focus</td>\n",
       "      <td>III рестайлинг (2014—2019)</td>\n",
       "      <td>1.6 PowerShift (105 л.с.)</td>\n",
       "      <td>2015</td>\n",
       "    </tr>\n",
       "  </tbody>\n",
       "</table>\n",
       "<p>100 rows × 10 columns</p>\n",
       "</div>"
      ],
      "text/plain": [
       "               bias    base_price  actual_price      price sale_end_date  \\\n",
       "726266   -62.272727  5.355000e+05      330000.0   330000.0    2022-12-24   \n",
       "94887    -62.649006  1.951788e+06     1200000.0  1400000.0    2022-12-13   \n",
       "500514   -62.651224  5.188574e+05      319000.0   510000.0    2022-12-19   \n",
       "516497   -62.651224  5.188574e+05      319000.0   329000.0    2022-12-19   \n",
       "1159780  -63.183894  1.378904e+06      845000.0   795000.0    2022-12-25   \n",
       "...             ...           ...           ...        ...           ...   \n",
       "1121895  -76.366867  4.409172e+05      250000.0   259000.0    2022-12-19   \n",
       "1255772 -125.025485  4.252982e+05      189000.0   249000.0    2022-12-23   \n",
       "349488   -93.622803  6.234654e+05      322000.0   387000.0    2022-12-14   \n",
       "582927   -66.937623  5.091598e+05      305000.0   542000.0    2022-12-31   \n",
       "798706   -74.439696  8.233554e+05      472000.0   520000.0    2022-12-08   \n",
       "\n",
       "              brand    model                  generation  \\\n",
       "726266        Volvo     XC70    I рестайлинг (2004—2007)   \n",
       "94887         Skoda  Octavia  III рестайлинг (2017—2020)   \n",
       "500514        Skoda    Fabia   II рестайлинг (2010—2014)   \n",
       "516497        Skoda    Fabia   II рестайлинг (2010—2014)   \n",
       "1159780        Audi       A3              8V (2012—2016)   \n",
       "...             ...      ...                         ...   \n",
       "1121895     Hyundai  Elantra  III рестайлинг (2003—2010)   \n",
       "1255772  Volkswagen   Touran    I рестайлинг (2006—2010)   \n",
       "349488          Kia  Picanto              II (2011—2015)   \n",
       "582927       Nissan     Note  E11 рестайлинг (2008—2013)   \n",
       "798706         Ford    Focus  III рестайлинг (2014—2019)   \n",
       "\n",
       "                         modification  year  \n",
       "726266          2.5 4WD AT (210 л.с.)  2005  \n",
       "94887          1.4 TSI DSG (150 л.с.)  2020  \n",
       "500514               1.4 MT (86 л.с.)  2011  \n",
       "516497               1.4 MT (86 л.с.)  2011  \n",
       "1159780  1.4 TFSI S tronic (125 л.с.)  2016  \n",
       "...                               ...   ...  \n",
       "1121895       1.6 MT (105 л.с.) ТагАЗ  2008  \n",
       "1255772         1.4 TSI MT (140 л.с.)  2007  \n",
       "349488               1.0 MT (69 л.с.)  2012  \n",
       "582927               1.4 MT (88 л.с.)  2010  \n",
       "798706      1.6 PowerShift (105 л.с.)  2015  \n",
       "\n",
       "[100 rows x 10 columns]"
      ]
     },
     "execution_count": 31,
     "metadata": {},
     "output_type": "execute_result"
    }
   ],
   "source": [
    "# show_top_errors(val, y_pred, top_k=100)"
   ]
  },
  {
   "cell_type": "code",
   "execution_count": 32,
   "id": "3ab06e94",
   "metadata": {
    "scrolled": true
   },
   "outputs": [
    {
     "name": "stdout",
     "output_type": "stream",
     "text": [
      "Train rows: 58301\n",
      "Min train date: 2022-06-11 00:00:00\n",
      "Max train date: 2022-12-07 00:00:00\n",
      "Val rows: 11508\n",
      "Min val date: 2022-12-08 00:00:00\n",
      "Max val date: 2023-01-06 00:00:00\n"
     ]
    }
   ],
   "source": [
    "last_n_days = 30\n",
    "last_date = data_dealer['sale_end_date'].max()\n",
    "train = data_dealer[data_dealer['sale_end_date'] <= last_date - 2 * timedelta(last_n_days)]\n",
    "val = data_dealer[(data_dealer['sale_end_date'] > last_date - 2 * timedelta(last_n_days)) & (data_dealer['sale_end_date'] <= last_date - timedelta(last_n_days))]\n",
    "delayed_test = data_dealer[data_dealer['sale_end_date'] > last_date - timedelta(last_n_days)]\n",
    "\n",
    "print(f'Train rows: {train.shape[0]}')\n",
    "print(f'Min train date: {train.sale_end_date.min()}')\n",
    "print(f'Max train date: {train.sale_end_date.max()}')\n",
    "print(f'Val rows: {val.shape[0]}')\n",
    "print(f'Min val date: {val.sale_end_date.min()}')\n",
    "print(f'Max val date: {val.sale_end_date.max()}')"
   ]
  },
  {
   "cell_type": "markdown",
   "id": "41312c0f",
   "metadata": {},
   "source": [
    "Определим категориальные и численные признаки, которые будем использовать в обучении. Заполним пропущенные значения в категориальных признаках пустой строкой."
   ]
  },
  {
   "cell_type": "code",
   "execution_count": 33,
   "id": "8ec60731",
   "metadata": {},
   "outputs": [],
   "source": [
    "cat_features = [\n",
    "    'brand',\n",
    "    'model',\n",
    "    'generation',\n",
    "    'modification',\n",
    "    'color',\n",
    "    'body_type',\n",
    "    'equipment',\n",
    "    'owners_count',\n",
    "]\n",
    "\n",
    "num_features = [\n",
    "    'year',\n",
    "    'mileage',\n",
    "    'latitude',\n",
    "    'longitude',\n",
    "    'crashes',\n",
    "    'is_taxi',\n",
    "    'is_carsharing'\n",
    "]\n",
    "\n",
    "train[cat_features] = train[cat_features].fillna('')\n",
    "val[cat_features] = val[cat_features].fillna('')\n",
    "\n",
    "features = cat_features + num_features\n",
    "\n",
    "X_train = train[features].reset_index(drop=True)\n",
    "X_val = val[features].reset_index(drop=True)\n",
    "\n",
    "y_train, y_val = train['actual_price'], val['actual_price']"
   ]
  },
  {
   "cell_type": "markdown",
   "id": "89926b35",
   "metadata": {},
   "source": [
    "Обучим CatBoostRegressor."
   ]
  },
  {
   "cell_type": "code",
   "execution_count": 34,
   "id": "752413c1",
   "metadata": {},
   "outputs": [],
   "source": [
    "f = lambda x: x\n",
    "inv_f = lambda x: x\n",
    "\n",
    "transformation = \"CoxBox\"\n",
    "\n",
    "if transformation == \"Log\":\n",
    "    fy_train = np.log(y_train)\n",
    "    fy_val = np.log(y_val)\n",
    "    f = np.log\n",
    "    inv_f = np.exp\n",
    "elif transformation == \"CoxBox\":\n",
    "    fy_train, fitted_lambda = boxcox(y_train, lmbda=None)\n",
    "    fy_val = boxcox(y_val, lmbda=fitted_lambda)\n",
    "    f = lambda x: boxcox(x, lmbda=fitted_lambda)\n",
    "    inv_f = lambda x: inv_boxcox(x, fitted_lambda)"
   ]
  },
  {
   "cell_type": "code",
   "execution_count": 35,
   "id": "7889d825",
   "metadata": {},
   "outputs": [
    {
     "data": {
      "application/vnd.jupyter.widget-view+json": {
       "model_id": "cda21f85b6e149d182b5901b75dec1a9",
       "version_major": 2,
       "version_minor": 0
      },
      "text/plain": [
       "MetricVisualizer(layout=Layout(align_self='stretch', height='500px'))"
      ]
     },
     "metadata": {},
     "output_type": "display_data"
    },
    {
     "data": {
      "text/plain": [
       "<catboost.core.CatBoostRegressor at 0x7f3d285ac8e0>"
      ]
     },
     "execution_count": 35,
     "metadata": {},
     "output_type": "execute_result"
    }
   ],
   "source": [
    "np.random.seed(10)\n",
    "\n",
    "params = dict(\n",
    "    iterations=3800,\n",
    "    colsample_bylevel=0.6621004943397027,\n",
    "    depth=10,\n",
    "    # max_bin=80,\n",
    "    boosting_type='Plain',\n",
    "    bootstrap_type='MVS',\n",
    "    l2_leaf_reg=1.3946357860687908e-08,\n",
    "    loss_function='MAE', # 'MAE'\n",
    "    use_best_model=True,\n",
    "    verbose=False,\n",
    "    eval_metric=MedianAPE(f, inv_f),\n",
    "    random_seed=42,\n",
    "    # od_pval=1.0\n",
    ")\n",
    "model = cb.CatBoostRegressor(\n",
    "    **params,\n",
    ")\n",
    "\n",
    "eval_set = cb.Pool(data=X_val, label=f(y_val), cat_features=cat_features)\n",
    "model.fit(X_train, f(y_train), cat_features=cat_features, eval_set=eval_set, plot=True, use_best_model=True)"
   ]
  },
  {
   "cell_type": "code",
   "execution_count": 36,
   "id": "d54afefb",
   "metadata": {},
   "outputs": [
    {
     "data": {
      "text/plain": [
       "3302"
      ]
     },
     "execution_count": 36,
     "metadata": {},
     "output_type": "execute_result"
    }
   ],
   "source": [
    "model.tree_count_"
   ]
  },
  {
   "cell_type": "markdown",
   "id": "b161e9f4",
   "metadata": {},
   "source": [
    "Посмотрим на метрики качества обученной модели. Видим, что medianAPE = 0.077510, а медиана сдвига (bias) = -0.022562."
   ]
  },
  {
   "attachments": {},
   "cell_type": "markdown",
   "id": "63048949",
   "metadata": {},
   "source": [
    "Trial 28 finished with value: 6.992675313018867 and parameters: {'objective': 'RMSE', 'colsample_bylevel': 0.6621004943397027, 'depth': 10, 'boosting_type': 'Plain', 'bootstrap_type': 'MVS', 'l2_leaf_reg': 1.3946357860687908e-08, 'scaler': 0.9731799882485812}. Best is trial 28 with value: 6.992675313018867."
   ]
  },
  {
   "cell_type": "markdown",
   "id": "dfc23a46",
   "metadata": {},
   "source": [
    "Best trial:\n",
    "  Value: 7.21762707424735\n",
    "  Params: \n",
    "    transformation: CoxBox\n",
    "    objective: RMSE\n",
    "    colsample_bylevel: 0.8818314784765143\n",
    "    boosting_type: Plain\n",
    "    depth: 10\n",
    "    bootstrap_type: MVS\n",
    "    l2_leaf_reg: 0.000301993341816763\n",
    "    random_strength: 1.9105407452994366e-05"
   ]
  },
  {
   "attachments": {},
   "cell_type": "markdown",
   "id": "0c130ccf",
   "metadata": {},
   "source": [
    "Best trial:\n",
    "  Value: 7.221685017975302\n",
    "  Params:\n",
    "    boosting_type: Plain\n",
    "    depth: 11\n",
    "    bootstrap_type: MVS\n",
    "    l2_leaf_reg: 0.6000809754492009\n",
    "    random_strength: 7.901784842108324e-06"
   ]
  },
  {
   "cell_type": "code",
   "execution_count": 37,
   "id": "5182cb01",
   "metadata": {},
   "outputs": [
    {
     "data": {
      "text/plain": [
       "0.029999999329447743"
      ]
     },
     "execution_count": 37,
     "metadata": {},
     "output_type": "execute_result"
    }
   ],
   "source": [
    "model.get_all_params()['learning_rate']"
   ]
  },
  {
   "cell_type": "code",
   "execution_count": 38,
   "id": "8eb2fde8",
   "metadata": {},
   "outputs": [
    {
     "data": {
      "text/plain": [
       "3301"
      ]
     },
     "execution_count": 38,
     "metadata": {},
     "output_type": "execute_result"
    }
   ],
   "source": [
    "model.best_iteration_"
   ]
  },
  {
   "cell_type": "code",
   "execution_count": 39,
   "id": "d6a683ef",
   "metadata": {},
   "outputs": [
    {
     "data": {
      "text/html": [
       "<style type=\"text/css\">\n",
       "#T_1c287_row5_col1 {\n",
       "  background-color: lightgreen;\n",
       "}\n",
       "</style>\n",
       "<table id=\"T_1c287_\">\n",
       "  <thead>\n",
       "    <tr>\n",
       "      <th class=\"blank level0\" >&nbsp;</th>\n",
       "      <th class=\"col_heading level0 col0\" >bias</th>\n",
       "      <th class=\"col_heading level0 col1\" >MAPE</th>\n",
       "    </tr>\n",
       "  </thead>\n",
       "  <tbody>\n",
       "    <tr>\n",
       "      <th id=\"T_1c287_level0_row0\" class=\"row_heading level0 row0\" >count</th>\n",
       "      <td id=\"T_1c287_row0_col0\" class=\"data row0 col0\" >11508.000000</td>\n",
       "      <td id=\"T_1c287_row0_col1\" class=\"data row0 col1\" >11508.000000</td>\n",
       "    </tr>\n",
       "    <tr>\n",
       "      <th id=\"T_1c287_level0_row1\" class=\"row_heading level0 row1\" >mean</th>\n",
       "      <td id=\"T_1c287_row1_col0\" class=\"data row1 col0\" >-3.823809</td>\n",
       "      <td id=\"T_1c287_row1_col1\" class=\"data row1 col1\" >10.982418</td>\n",
       "    </tr>\n",
       "    <tr>\n",
       "      <th id=\"T_1c287_level0_row2\" class=\"row_heading level0 row2\" >std</th>\n",
       "      <td id=\"T_1c287_row2_col0\" class=\"data row2 col0\" >26.460244</td>\n",
       "      <td id=\"T_1c287_row2_col1\" class=\"data row2 col1\" >24.375055</td>\n",
       "    </tr>\n",
       "    <tr>\n",
       "      <th id=\"T_1c287_level0_row3\" class=\"row_heading level0 row3\" >min</th>\n",
       "      <td id=\"T_1c287_row3_col0\" class=\"data row3 col0\" >-1990.943695</td>\n",
       "      <td id=\"T_1c287_row3_col1\" class=\"data row3 col1\" >0.000485</td>\n",
       "    </tr>\n",
       "    <tr>\n",
       "      <th id=\"T_1c287_level0_row4\" class=\"row_heading level0 row4\" >25%</th>\n",
       "      <td id=\"T_1c287_row4_col0\" class=\"data row4 col0\" >-9.736990</td>\n",
       "      <td id=\"T_1c287_row4_col1\" class=\"data row4 col1\" >3.337430</td>\n",
       "    </tr>\n",
       "    <tr>\n",
       "      <th id=\"T_1c287_level0_row5\" class=\"row_heading level0 row5\" >50%</th>\n",
       "      <td id=\"T_1c287_row5_col0\" class=\"data row5 col0\" >-1.553441</td>\n",
       "      <td id=\"T_1c287_row5_col1\" class=\"data row5 col1\" >7.290902</td>\n",
       "    </tr>\n",
       "    <tr>\n",
       "      <th id=\"T_1c287_level0_row6\" class=\"row_heading level0 row6\" >75%</th>\n",
       "      <td id=\"T_1c287_row6_col0\" class=\"data row6 col0\" >5.316231</td>\n",
       "      <td id=\"T_1c287_row6_col1\" class=\"data row6 col1\" >13.683473</td>\n",
       "    </tr>\n",
       "    <tr>\n",
       "      <th id=\"T_1c287_level0_row7\" class=\"row_heading level0 row7\" >max</th>\n",
       "      <td id=\"T_1c287_row7_col0\" class=\"data row7 col0\" >87.845785</td>\n",
       "      <td id=\"T_1c287_row7_col1\" class=\"data row7 col1\" >1990.943695</td>\n",
       "    </tr>\n",
       "  </tbody>\n",
       "</table>\n"
      ],
      "text/plain": [
       "<pandas.io.formats.style.Styler at 0x7f3d1c36b790>"
      ]
     },
     "execution_count": 39,
     "metadata": {},
     "output_type": "execute_result"
    }
   ],
   "source": [
    "val['prediction'] = inv_f(model.predict(X_val))\n",
    "val['bias'] = (val['actual_price'] - val['prediction']) / val['actual_price'] * 100\n",
    "\n",
    "stats = pd.concat([\n",
    "    val.bias.describe(),\n",
    "    val.bias.abs().describe(),\n",
    "], axis=1)\n",
    "stats.columns = ['bias', 'MAPE']\n",
    "\n",
    "stats.style.apply(style_median_ape, axis=None)"
   ]
  },
  {
   "cell_type": "code",
   "execution_count": 40,
   "id": "eeee2fb1",
   "metadata": {},
   "outputs": [
    {
     "name": "stdout",
     "output_type": "stream",
     "text": [
      "7.226244836904875 0.9684684684684685 20000\n"
     ]
    }
   ],
   "source": [
    "best = float('inf')\n",
    "best_ratio = 0\n",
    "best_bias = 0\n",
    "biases = [0, 1000, -1000, 5000, -5000, 20000, -20000]\n",
    "for ratio in np.linspace(0.7, 1.3, num=1000):\n",
    "    for bias in biases:\n",
    "        temp = np.median((val['actual_price'] - (val['prediction']*ratio + bias)).abs() / val['actual_price'])\n",
    "        if temp < best:\n",
    "            best = temp\n",
    "            best_ratio = ratio\n",
    "            best_bias = bias\n",
    "print(best * 100, best_ratio, best_bias)"
   ]
  },
  {
   "cell_type": "code",
   "execution_count": 41,
   "id": "d869132f",
   "metadata": {},
   "outputs": [
    {
     "data": {
      "text/html": [
       "<style type=\"text/css\">\n",
       "#T_d9ede_row5_col1 {\n",
       "  background-color: lightgreen;\n",
       "}\n",
       "</style>\n",
       "<table id=\"T_d9ede_\">\n",
       "  <thead>\n",
       "    <tr>\n",
       "      <th class=\"blank level0\" >&nbsp;</th>\n",
       "      <th class=\"col_heading level0 col0\" >bias</th>\n",
       "      <th class=\"col_heading level0 col1\" >MAPE</th>\n",
       "    </tr>\n",
       "  </thead>\n",
       "  <tbody>\n",
       "    <tr>\n",
       "      <th id=\"T_d9ede_level0_row0\" class=\"row_heading level0 row0\" >count</th>\n",
       "      <td id=\"T_d9ede_row0_col0\" class=\"data row0 col0\" >11508.000000</td>\n",
       "      <td id=\"T_d9ede_row0_col1\" class=\"data row0 col1\" >11508.000000</td>\n",
       "    </tr>\n",
       "    <tr>\n",
       "      <th id=\"T_d9ede_level0_row1\" class=\"row_heading level0 row1\" >mean</th>\n",
       "      <td id=\"T_d9ede_row1_col0\" class=\"data row1 col0\" >-2.573758</td>\n",
       "      <td id=\"T_d9ede_row1_col1\" class=\"data row1 col1\" >10.886111</td>\n",
       "    </tr>\n",
       "    <tr>\n",
       "      <th id=\"T_d9ede_level0_row2\" class=\"row_heading level0 row2\" >std</th>\n",
       "      <td id=\"T_d9ede_row2_col0\" class=\"data row2 col0\" >27.069852</td>\n",
       "      <td id=\"T_d9ede_row2_col1\" class=\"data row2 col1\" >24.917543</td>\n",
       "    </tr>\n",
       "    <tr>\n",
       "      <th id=\"T_d9ede_level0_row3\" class=\"row_heading level0 row3\" >min</th>\n",
       "      <td id=\"T_d9ede_row3_col0\" class=\"data row3 col0\" >-1961.376674</td>\n",
       "      <td id=\"T_d9ede_row3_col1\" class=\"data row3 col1\" >0.001034</td>\n",
       "    </tr>\n",
       "    <tr>\n",
       "      <th id=\"T_d9ede_level0_row4\" class=\"row_heading level0 row4\" >25%</th>\n",
       "      <td id=\"T_d9ede_row4_col0\" class=\"data row4 col0\" >-8.014345</td>\n",
       "      <td id=\"T_d9ede_row4_col1\" class=\"data row4 col1\" >3.383784</td>\n",
       "    </tr>\n",
       "    <tr>\n",
       "      <th id=\"T_d9ede_level0_row5\" class=\"row_heading level0 row5\" >50%</th>\n",
       "      <td id=\"T_d9ede_row5_col0\" class=\"data row5 col0\" >0.021900</td>\n",
       "      <td id=\"T_d9ede_row5_col1\" class=\"data row5 col1\" >7.226245</td>\n",
       "    </tr>\n",
       "    <tr>\n",
       "      <th id=\"T_d9ede_level0_row6\" class=\"row_heading level0 row6\" >75%</th>\n",
       "      <td id=\"T_d9ede_row6_col0\" class=\"data row6 col0\" >6.658249</td>\n",
       "      <td id=\"T_d9ede_row6_col1\" class=\"data row6 col1\" >13.171169</td>\n",
       "    </tr>\n",
       "    <tr>\n",
       "      <th id=\"T_d9ede_level0_row7\" class=\"row_heading level0 row7\" >max</th>\n",
       "      <td id=\"T_d9ede_row7_col0\" class=\"data row7 col0\" >87.573289</td>\n",
       "      <td id=\"T_d9ede_row7_col1\" class=\"data row7 col1\" >1961.376674</td>\n",
       "    </tr>\n",
       "  </tbody>\n",
       "</table>\n"
      ],
      "text/plain": [
       "<pandas.io.formats.style.Styler at 0x7f3d1c362550>"
      ]
     },
     "execution_count": 41,
     "metadata": {},
     "output_type": "execute_result"
    }
   ],
   "source": [
    "val['prediction'] = inv_f(model.predict(X_val))\n",
    "val['bias'] = (val['actual_price'] - val['prediction']*best_ratio - best_bias) / val['actual_price'] * 100\n",
    "\n",
    "stats = pd.concat([\n",
    "    val.bias.describe(),\n",
    "    val.bias.abs().describe(),\n",
    "], axis=1)\n",
    "stats.columns = ['bias', 'MAPE']\n",
    "\n",
    "stats.style.apply(style_median_ape, axis=None)"
   ]
  },
  {
   "cell_type": "markdown",
   "id": "2765ba70",
   "metadata": {},
   "source": [
    "Посмотрим на важность признаков для модели."
   ]
  },
  {
   "cell_type": "markdown",
   "id": "f3a1a558",
   "metadata": {},
   "source": [
    "Сделаем предсказание на test и сохраним solution.csv."
   ]
  },
  {
   "cell_type": "code",
   "execution_count": 42,
   "id": "2d0b163d",
   "metadata": {},
   "outputs": [],
   "source": [
    "val['prediction_dealer'] = inv_f(model.predict(val[model.feature_names_]))"
   ]
  },
  {
   "cell_type": "code",
   "execution_count": 49,
   "id": "181d5e28",
   "metadata": {},
   "outputs": [],
   "source": [
    "delayed_test[cat_features] = delayed_test[cat_features].fillna('')"
   ]
  },
  {
   "cell_type": "code",
   "execution_count": 50,
   "id": "186dc926",
   "metadata": {},
   "outputs": [
    {
     "data": {
      "text/html": [
       "<style type=\"text/css\">\n",
       "#T_e8e0d_row5_col1 {\n",
       "  background-color: lightgreen;\n",
       "}\n",
       "</style>\n",
       "<table id=\"T_e8e0d_\">\n",
       "  <thead>\n",
       "    <tr>\n",
       "      <th class=\"blank level0\" >&nbsp;</th>\n",
       "      <th class=\"col_heading level0 col0\" >bias</th>\n",
       "      <th class=\"col_heading level0 col1\" >MAPE</th>\n",
       "    </tr>\n",
       "  </thead>\n",
       "  <tbody>\n",
       "    <tr>\n",
       "      <th id=\"T_e8e0d_level0_row0\" class=\"row_heading level0 row0\" >count</th>\n",
       "      <td id=\"T_e8e0d_row0_col0\" class=\"data row0 col0\" >11617.000000</td>\n",
       "      <td id=\"T_e8e0d_row0_col1\" class=\"data row0 col1\" >11617.000000</td>\n",
       "    </tr>\n",
       "    <tr>\n",
       "      <th id=\"T_e8e0d_level0_row1\" class=\"row_heading level0 row1\" >mean</th>\n",
       "      <td id=\"T_e8e0d_row1_col0\" class=\"data row1 col0\" >-1.275881</td>\n",
       "      <td id=\"T_e8e0d_row1_col1\" class=\"data row1 col1\" >10.055857</td>\n",
       "    </tr>\n",
       "    <tr>\n",
       "      <th id=\"T_e8e0d_level0_row2\" class=\"row_heading level0 row2\" >std</th>\n",
       "      <td id=\"T_e8e0d_row2_col0\" class=\"data row2 col0\" >17.741549</td>\n",
       "      <td id=\"T_e8e0d_row2_col1\" class=\"data row2 col1\" >14.671797</td>\n",
       "    </tr>\n",
       "    <tr>\n",
       "      <th id=\"T_e8e0d_level0_row3\" class=\"row_heading level0 row3\" >min</th>\n",
       "      <td id=\"T_e8e0d_row3_col0\" class=\"data row3 col0\" >-693.273092</td>\n",
       "      <td id=\"T_e8e0d_row3_col1\" class=\"data row3 col1\" >0.000260</td>\n",
       "    </tr>\n",
       "    <tr>\n",
       "      <th id=\"T_e8e0d_level0_row4\" class=\"row_heading level0 row4\" >25%</th>\n",
       "      <td id=\"T_e8e0d_row4_col0\" class=\"data row4 col0\" >-7.286902</td>\n",
       "      <td id=\"T_e8e0d_row4_col1\" class=\"data row4 col1\" >3.375319</td>\n",
       "    </tr>\n",
       "    <tr>\n",
       "      <th id=\"T_e8e0d_level0_row5\" class=\"row_heading level0 row5\" >50%</th>\n",
       "      <td id=\"T_e8e0d_row5_col0\" class=\"data row5 col0\" >0.353443</td>\n",
       "      <td id=\"T_e8e0d_row5_col1\" class=\"data row5 col1\" >7.126587</td>\n",
       "    </tr>\n",
       "    <tr>\n",
       "      <th id=\"T_e8e0d_level0_row6\" class=\"row_heading level0 row6\" >75%</th>\n",
       "      <td id=\"T_e8e0d_row6_col0\" class=\"data row6 col0\" >7.031606</td>\n",
       "      <td id=\"T_e8e0d_row6_col1\" class=\"data row6 col1\" >12.848802</td>\n",
       "    </tr>\n",
       "    <tr>\n",
       "      <th id=\"T_e8e0d_level0_row7\" class=\"row_heading level0 row7\" >max</th>\n",
       "      <td id=\"T_e8e0d_row7_col0\" class=\"data row7 col0\" >68.680954</td>\n",
       "      <td id=\"T_e8e0d_row7_col1\" class=\"data row7 col1\" >693.273092</td>\n",
       "    </tr>\n",
       "  </tbody>\n",
       "</table>\n"
      ],
      "text/plain": [
       "<pandas.io.formats.style.Styler at 0x7f3bd41f80d0>"
      ]
     },
     "execution_count": 50,
     "metadata": {},
     "output_type": "execute_result"
    }
   ],
   "source": [
    "preds = inv_f(model.predict(delayed_test[model.feature_names_]))\n",
    "get_metric(delayed_test['actual_price'].values, preds).style.apply(style_median_ape, axis=None)"
   ]
  },
  {
   "attachments": {},
   "cell_type": "markdown",
   "id": "e785a9e8",
   "metadata": {},
   "source": [
    "+0.12%"
   ]
  },
  {
   "cell_type": "code",
   "execution_count": 55,
   "id": "6d292dde",
   "metadata": {},
   "outputs": [
    {
     "data": {
      "text/plain": [
       "815"
      ]
     },
     "execution_count": 55,
     "metadata": {},
     "output_type": "execute_result"
    }
   ],
   "source": [
    "import gc\n",
    "from collections import defaultdict\n",
    "\n",
    "data_advert = None\n",
    "\n",
    "gc.collect()"
   ]
  },
  {
   "cell_type": "code",
   "execution_count": null,
   "id": "09476691",
   "metadata": {},
   "outputs": [],
   "source": [
    "params = dict(\n",
    "    iterations=3800,\n",
    "    colsample_bylevel=0.6621004943397027,\n",
    "    depth=10,\n",
    "    # max_bin=80,\n",
    "    boosting_type='Plain',\n",
    "    bootstrap_type='MVS',\n",
    "    l2_leaf_reg=1.3946357860687908e-08,\n",
    "    loss_function='MAE', # 'MAE'\n",
    "    use_best_model=True,\n",
    "    verbose=False,\n",
    "    eval_metric=MedianAPE(f, inv_f),\n",
    "    random_seed=42,\n",
    "    # od_pval=1.0\n",
    ")"
   ]
  },
  {
   "cell_type": "code",
   "execution_count": 80,
   "id": "791a611e",
   "metadata": {},
   "outputs": [
    {
     "data": {
      "text/plain": [
       "['Quantile:alpha=0.10',\n",
       " 'Quantile:alpha=0.12',\n",
       " 'Quantile:alpha=0.14',\n",
       " 'Quantile:alpha=0.16',\n",
       " 'Quantile:alpha=0.18',\n",
       " 'Quantile:alpha=0.20',\n",
       " 'Quantile:alpha=0.22',\n",
       " 'Quantile:alpha=0.24',\n",
       " 'Quantile:alpha=0.26',\n",
       " 'Quantile:alpha=0.28',\n",
       " 'Quantile:alpha=0.30',\n",
       " 'Quantile:alpha=0.32',\n",
       " 'Quantile:alpha=0.34',\n",
       " 'Quantile:alpha=0.36',\n",
       " 'Quantile:alpha=0.38',\n",
       " 'Quantile:alpha=0.40',\n",
       " 'Quantile:alpha=0.60',\n",
       " 'Quantile:alpha=0.62',\n",
       " 'Quantile:alpha=0.64',\n",
       " 'Quantile:alpha=0.66',\n",
       " 'Quantile:alpha=0.68',\n",
       " 'Quantile:alpha=0.70',\n",
       " 'Quantile:alpha=0.72',\n",
       " 'Quantile:alpha=0.74',\n",
       " 'Quantile:alpha=0.76',\n",
       " 'Quantile:alpha=0.78',\n",
       " 'Quantile:alpha=0.80',\n",
       " 'Quantile:alpha=0.82',\n",
       " 'Quantile:alpha=0.84',\n",
       " 'Quantile:alpha=0.86',\n",
       " 'Quantile:alpha=0.88',\n",
       " 'Quantile:alpha=0.90']"
      ]
     },
     "execution_count": 80,
     "metadata": {},
     "output_type": "execute_result"
    }
   ],
   "source": [
    "start_p=10\n",
    "end_p=90\n",
    "\n",
    "[f'Quantile:alpha=0.{i}' for i in list(range(start_p, end_p - 49, step_p)) + list(range(start_p + 50, end_p + 1, step_p))]"
   ]
  },
  {
   "cell_type": "code",
   "execution_count": null,
   "id": "e5e40e55",
   "metadata": {},
   "outputs": [],
   "source": [
    "def calibrate_percentiles(params, start_p=10, end_p=90, step_p=5):\n",
    "    quantile_metrics = [f'Quantile:alpha=0.{i}' for i in list(range(start_p, end_p - 49, step_p)) + list(range(start_p + 50, end_p + 1, step_p))]\n",
    "    print(quantile_metrics)\n",
    "\n",
    "    dict_models = dict()\n",
    "    for q in quantile_metrics:\n",
    "        params['loss_function'] = q\n",
    "        dict_models.setdefault(q, cb.CatBoostRegressor(**params))\n",
    "        dict_models[q].fit(X_train, y_train, cat_features=cat_features, eval_set=eval_set, plot=False, use_best_model=True)\n",
    "\n",
    "\n",
    "    print('all models fitted')\n",
    "\n",
    "    final_result = []\n",
    "\n",
    "    for q in quantile_metrics:\n",
    "        _feature_names = dict_models[q].feature_names_\n",
    "        _temp = inv_f(dict_models[q].predict(delayed_test[_feature_names]))\n",
    "        final_result.append(_temp)\n",
    "\n",
    "    q_preds = np.stack(final_result, axis=-1)\n",
    "    print('full predict shape:', q_preds.shape)\n",
    "\n",
    "    def find_optimal(x):\n",
    "        n = len(x) // 2\n",
    "        optimal_k = np.array([x[idx + n] / x[idx] for idx in range(n)]).argmin()\n",
    "        res = hmean([x[optimal_k], x[optimal_k + n]])\n",
    "        return res\n",
    "\n",
    "    final_preds = np.apply_along_axis(find_optimal, 1, q_preds)\n",
    "\n",
    "    print('final predict shape:', final_preds.shape)\n",
    "\n",
    "    return dict_models, q_preds, final_preds\n",
    "\n",
    "dict_models, q_preds, final_preds = calibrate_percentiles(params)"
   ]
  },
  {
   "cell_type": "code",
   "execution_count": 57,
   "id": "7ce45f4a",
   "metadata": {},
   "outputs": [
    {
     "name": "stdout",
     "output_type": "stream",
     "text": [
      "['Quantile:alpha=0.10', 'Quantile:alpha=0.15', 'Quantile:alpha=0.20', 'Quantile:alpha=0.25', 'Quantile:alpha=0.30', 'Quantile:alpha=0.35', 'Quantile:alpha=0.40', 'Quantile:alpha=0.60', 'Quantile:alpha=0.65', 'Quantile:alpha=0.70', 'Quantile:alpha=0.75', 'Quantile:alpha=0.80', 'Quantile:alpha=0.85', 'Quantile:alpha=0.90']\n"
     ]
    }
   ],
   "source": [
    "quantile_metrics = [f'Quantile:alpha=0.{i}' for i in list(range(10, 41, 5)) + list(range(60, 91, 5))]\n",
    "print(quantile_metrics)\n",
    "\n",
    "dict_models = dict()\n",
    "\n",
    "for q in quantile_metrics:\n",
    "    params['loss_function'] = q\n",
    "    dict_models.setdefault(q, cb.CatBoostRegressor(**params))\n",
    "    dict_models[q].fit(X_train, f(y_train), cat_features=cat_features, eval_set=eval_set, plot=False, use_best_model=True)"
   ]
  },
  {
   "cell_type": "code",
   "execution_count": 59,
   "id": "1644d103",
   "metadata": {},
   "outputs": [],
   "source": [
    "final_result = []\n",
    "\n",
    "for q in quantile_metrics:\n",
    "    _feature_names = dict_models[q].feature_names_\n",
    "    _temp = inv_f(dict_models[q].predict(delayed_test[_feature_names]))\n",
    "    final_result.append(_temp)\n",
    "\n",
    "q_preds = np.stack(final_result, axis=-1)"
   ]
  },
  {
   "cell_type": "code",
   "execution_count": 60,
   "id": "46dcd2cf",
   "metadata": {},
   "outputs": [
    {
     "data": {
      "text/plain": [
       "(11617, 14)"
      ]
     },
     "execution_count": 60,
     "metadata": {},
     "output_type": "execute_result"
    }
   ],
   "source": [
    "q_preds.shape"
   ]
  },
  {
   "cell_type": "code",
   "execution_count": 61,
   "id": "ff09c73e",
   "metadata": {},
   "outputs": [],
   "source": [
    "def find_optimal(x):\n",
    "    n = len(x) // 2\n",
    "    optimal_k = np.array([x[idx + n] / x[idx] for idx in range(n)]).argmin()\n",
    "    res = hmean([x[optimal_k], x[optimal_k + n]])\n",
    "    return res\n",
    "\n",
    "final_preds = np.apply_along_axis(find_optimal, 1, q_preds)"
   ]
  },
  {
   "cell_type": "code",
   "execution_count": 64,
   "id": "5b3c8650",
   "metadata": {},
   "outputs": [],
   "source": [
    "def find_optimal_k(x):\n",
    "    n = len(x) // 2\n",
    "    optimal_k = np.array([x[idx + n] / x[idx] for idx in range(n)]).argmin()\n",
    "    return optimal_k\n",
    "\n",
    "optimals = np.apply_along_axis(find_optimal_k, 1, q_preds)"
   ]
  },
  {
   "cell_type": "code",
   "execution_count": 66,
   "id": "9363d50e",
   "metadata": {},
   "outputs": [],
   "source": [
    "ounique, ocounts = np.unique(optimals, return_counts=True)"
   ]
  },
  {
   "cell_type": "code",
   "execution_count": 68,
   "id": "42931f3d",
   "metadata": {},
   "outputs": [
    {
     "data": {
      "text/plain": [
       "array([0, 1, 2, 3, 4, 5, 6])"
      ]
     },
     "execution_count": 68,
     "metadata": {},
     "output_type": "execute_result"
    }
   ],
   "source": [
    "ounique"
   ]
  },
  {
   "cell_type": "code",
   "execution_count": 67,
   "id": "a3c9f29a",
   "metadata": {},
   "outputs": [
    {
     "data": {
      "text/plain": [
       "array([ 980, 1468, 1843, 2107, 1874, 1875, 1470])"
      ]
     },
     "execution_count": 67,
     "metadata": {},
     "output_type": "execute_result"
    }
   ],
   "source": [
    "ocounts"
   ]
  },
  {
   "cell_type": "code",
   "execution_count": 62,
   "id": "3534e07d",
   "metadata": {},
   "outputs": [
    {
     "data": {
      "text/plain": [
       "(11617,)"
      ]
     },
     "execution_count": 62,
     "metadata": {},
     "output_type": "execute_result"
    }
   ],
   "source": [
    "final_preds.shape"
   ]
  },
  {
   "cell_type": "code",
   "execution_count": 63,
   "id": "cf7ea341",
   "metadata": {},
   "outputs": [
    {
     "data": {
      "text/html": [
       "<style type=\"text/css\">\n",
       "#T_7514c_row5_col1 {\n",
       "  background-color: lightgreen;\n",
       "}\n",
       "</style>\n",
       "<table id=\"T_7514c_\">\n",
       "  <thead>\n",
       "    <tr>\n",
       "      <th class=\"blank level0\" >&nbsp;</th>\n",
       "      <th class=\"col_heading level0 col0\" >bias</th>\n",
       "      <th class=\"col_heading level0 col1\" >MAPE</th>\n",
       "    </tr>\n",
       "  </thead>\n",
       "  <tbody>\n",
       "    <tr>\n",
       "      <th id=\"T_7514c_level0_row0\" class=\"row_heading level0 row0\" >count</th>\n",
       "      <td id=\"T_7514c_row0_col0\" class=\"data row0 col0\" >11617.000000</td>\n",
       "      <td id=\"T_7514c_row0_col1\" class=\"data row0 col1\" >11617.000000</td>\n",
       "    </tr>\n",
       "    <tr>\n",
       "      <th id=\"T_7514c_level0_row1\" class=\"row_heading level0 row1\" >mean</th>\n",
       "      <td id=\"T_7514c_row1_col0\" class=\"data row1 col0\" >-1.494260</td>\n",
       "      <td id=\"T_7514c_row1_col1\" class=\"data row1 col1\" >9.901784</td>\n",
       "    </tr>\n",
       "    <tr>\n",
       "      <th id=\"T_7514c_level0_row2\" class=\"row_heading level0 row2\" >std</th>\n",
       "      <td id=\"T_7514c_row2_col0\" class=\"data row2 col0\" >17.080493</td>\n",
       "      <td id=\"T_7514c_row2_col1\" class=\"data row2 col1\" >13.997232</td>\n",
       "    </tr>\n",
       "    <tr>\n",
       "      <th id=\"T_7514c_level0_row3\" class=\"row_heading level0 row3\" >min</th>\n",
       "      <td id=\"T_7514c_row3_col0\" class=\"data row3 col0\" >-618.750593</td>\n",
       "      <td id=\"T_7514c_row3_col1\" class=\"data row3 col1\" >0.000575</td>\n",
       "    </tr>\n",
       "    <tr>\n",
       "      <th id=\"T_7514c_level0_row4\" class=\"row_heading level0 row4\" >25%</th>\n",
       "      <td id=\"T_7514c_row4_col0\" class=\"data row4 col0\" >-7.492408</td>\n",
       "      <td id=\"T_7514c_row4_col1\" class=\"data row4 col1\" >3.285242</td>\n",
       "    </tr>\n",
       "    <tr>\n",
       "      <th id=\"T_7514c_level0_row5\" class=\"row_heading level0 row5\" >50%</th>\n",
       "      <td id=\"T_7514c_row5_col0\" class=\"data row5 col0\" >0.049623</td>\n",
       "      <td id=\"T_7514c_row5_col1\" class=\"data row5 col1\" >7.063155</td>\n",
       "    </tr>\n",
       "    <tr>\n",
       "      <th id=\"T_7514c_level0_row6\" class=\"row_heading level0 row6\" >75%</th>\n",
       "      <td id=\"T_7514c_row6_col0\" class=\"data row6 col0\" >6.764859</td>\n",
       "      <td id=\"T_7514c_row6_col1\" class=\"data row6 col1\" >12.724484</td>\n",
       "    </tr>\n",
       "    <tr>\n",
       "      <th id=\"T_7514c_level0_row7\" class=\"row_heading level0 row7\" >max</th>\n",
       "      <td id=\"T_7514c_row7_col0\" class=\"data row7 col0\" >67.930014</td>\n",
       "      <td id=\"T_7514c_row7_col1\" class=\"data row7 col1\" >618.750593</td>\n",
       "    </tr>\n",
       "  </tbody>\n",
       "</table>\n"
      ],
      "text/plain": [
       "<pandas.io.formats.style.Styler at 0x7f3d3228cf70>"
      ]
     },
     "execution_count": 63,
     "metadata": {},
     "output_type": "execute_result"
    }
   ],
   "source": [
    "get_metric(delayed_test['actual_price'].values, final_preds).style.apply(style_median_ape, axis=None)"
   ]
  }
 ],
 "metadata": {
  "kernelspec": {
   "display_name": "base",
   "language": "python",
   "name": "python3"
  },
  "language_info": {
   "codemirror_mode": {
    "name": "ipython",
    "version": 3
   },
   "file_extension": ".py",
   "mimetype": "text/x-python",
   "name": "python",
   "nbconvert_exporter": "python",
   "pygments_lexer": "ipython3",
   "version": "3.9.12"
  },
  "vscode": {
   "interpreter": {
    "hash": "47b89d90cdbfc3cc34f6434dd4ac4e58191d401bec6a3a2ca257f5445e2a110a"
   }
  }
 },
 "nbformat": 4,
 "nbformat_minor": 5
}
